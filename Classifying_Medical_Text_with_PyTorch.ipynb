{
  "cells": [
    {
      "cell_type": "markdown",
      "metadata": {
        "id": "view-in-github",
        "colab_type": "text"
      },
      "source": [
        "<a href=\"https://colab.research.google.com/github/meleknurb/pytorch_capstone_projects/blob/main/Classifying_Medical_Text_with_PyTorch.ipynb\" target=\"_parent\"><img src=\"https://colab.research.google.com/assets/colab-badge.svg\" alt=\"Open In Colab\"/></a>"
      ]
    },
    {
      "cell_type": "markdown",
      "metadata": {
        "id": "97xMUEIYVwYS"
      },
      "source": [
        "# Classifying Medical Text with PyTorch\n",
        "\n",
        "In this project, we'll explore how to build deep learning models with PyTorch to classify health-related medical text into its correct focus area. We'll use a subset of the [MedQuAD dataset](https://github.com/abachaa/MedQuAD/tree/master) from this [research paper](https://arxiv.org/pdf/1901.08079), which is a real-world dataset containing medical question-answer pairs that have been collected from trusted health sources such as the NIH and MedlinePlus. Each answer is associated with a specific focus area representing the broader medical topic it aims to address.\n",
        "\n",
        "In clinical settings, manual labeling of medical information is tedious, time-consuming, and expensive. Therefore, the goal of this project is to build an automated AI system to help medical professionals better categorize and organize vast amounts of medical information quickly and accurately.\n",
        "\n",
        "Specifically, this project looks to build two deep learning classifiers:\n",
        "\n",
        "**1. Feedforward Neural Network**\n",
        "\n",
        "- a simple feedforward neural network to serve as a baseline model\n",
        "- faster and less expensive to train.\n",
        "\n",
        "**2. Fine-tuned BERT Model**\n",
        "\n",
        "- a specialized pre-trained ``PubMedBERT`` trained on biomedical literature\n",
        "- leverages attention mechanisms to understand medical text better\n",
        "\n",
        "**Note:** The models in this project are built and trained on a limited dataset that may not generalize well to the broader population or clinical settings. Therefore, the models are not intended for real-world medical applications and should not be relied upon for diagnosing, predicting, or managing any health outcomes. Any health-related decisions should always be made with the guidance of a qualified healthcare professional!\n",
        "\n",
        "#### MedQuAD Dataset Column Summary\n",
        "\n",
        "- **question:** A question related to a specific medical topic typically asked by patients.\n",
        "- **answer:** An accurate response to the question sourced from trusted health organizations.\n",
        "- **source:** The official source that provided the question-answer pair.\n",
        "- **focus_area:** The broader, overarching medical top the question-answer pair belongs to."
      ]
    },
    {
      "cell_type": "markdown",
      "metadata": {
        "id": "u7WDdGInuURn"
      },
      "source": [
        "\n",
        "\n",
        "---\n",
        "\n"
      ]
    },
    {
      "cell_type": "markdown",
      "metadata": {
        "id": "FCixN5YiXWsC"
      },
      "source": [
        "## Import Libraries"
      ]
    },
    {
      "cell_type": "code",
      "execution_count": null,
      "metadata": {
        "id": "WA9wxUN0VauJ"
      },
      "outputs": [],
      "source": [
        "import numpy as np\n",
        "import pandas as pd\n",
        "import matplotlib.pyplot as plt\n",
        "import seaborn as sns\n",
        "import re\n",
        "from collections import Counter\n",
        "\n",
        "import torch\n",
        "from torch.utils.data import DataLoader, TensorDataset\n",
        "import torch.nn as nn\n",
        "import torch.optim as optim\n",
        "import torch.nn.functional as F\n",
        "from transformers import AutoTokenizer, AutoModelForSequenceClassification\n",
        "from transformers import logging\n",
        "from sklearn.model_selection import train_test_split\n",
        "from sklearn.metrics import confusion_matrix, classification_report\n",
        "\n",
        "torch.manual_seed(42)\n",
        "logging.set_verbosity_error()\n",
        "sns.set(style='whitegrid', palette='Paired')\n",
        "%matplotlib inline"
      ]
    },
    {
      "cell_type": "markdown",
      "metadata": {
        "id": "kDMd57AquWWz"
      },
      "source": [
        "\n",
        "\n",
        "---\n",
        "\n"
      ]
    },
    {
      "cell_type": "markdown",
      "metadata": {
        "id": "dvvKJYXSYVSZ"
      },
      "source": [
        "## Loading and Inspecting the Dataset"
      ]
    },
    {
      "cell_type": "code",
      "execution_count": null,
      "metadata": {
        "colab": {
          "base_uri": "https://localhost:8080/",
          "height": 293
        },
        "id": "K1WdlhuIYPXM",
        "outputId": "31e41aa9-59a7-4560-d764-ddfc8ee761b8"
      },
      "outputs": [
        {
          "data": {
            "application/vnd.google.colaboratory.intrinsic+json": {
              "summary": "{\n  \"name\": \"df\",\n  \"rows\": 16412,\n  \"fields\": [\n    {\n      \"column\": \"question\",\n      \"properties\": {\n        \"dtype\": \"string\",\n        \"num_unique_values\": 14984,\n        \"samples\": [\n          \"How many people are affected by 8p11 myeloproliferative syndrome ?\",\n          \"What is (are) caudal regression syndrome ?\",\n          \"What is the outlook for Cephalic Disorders ?\"\n        ],\n        \"semantic_type\": \"\",\n        \"description\": \"\"\n      }\n    },\n    {\n      \"column\": \"answer\",\n      \"properties\": {\n        \"dtype\": \"string\",\n        \"num_unique_values\": 15817,\n        \"samples\": [\n          \"The prognosis depends upon the severity of symptoms. Children with early-onset AGS have the highest risk of death. Children with the later-onset form may be left with weakness or stiffness in the peripheral muscles and arms, weak muscles in the trunk of the body, and poor head control. Almost all children with AGS have mild to severe intellectual and physical impairment.\",\n          \"Scientists don't know exactly what causes prostate cancer. They cannot explain why one man gets prostate cancer and another does not. However, they have been able to identify some risk factors that are associated with the disease. A risk factor is anything that increases your chances of getting a disease. Age Age is the most important risk factor for prostate cancer. The disease is extremely rare in men under age 40, but the risk increases greatly with age. More than 60 percent of cases are diagnosed in men over age 65. The average age at the time of diagnosis is 65. Race Race is another major risk factor. In the United States, this disease is much more common in African American men than in any other group of men. It is least common in Asian and American Indian men. Family History A man's risk for developing prostate cancer is higher if his father or brother has had the disease. Other Risk Factors Scientists have wondered whether obesity, lack of exercise, smoking, radiation exposure, might increase risk. But at this time, there is no firm evidence that these factors contribute to an increased risk.\",\n          \"The retina is a layer of tissue in the back of your eye that senses light and sends images to your brain. It provides the sharp, central vision needed for reading, driving, and seeing fine detail. A retinal detachment lifts or pulls the retina from its normal position. It can occur at any age, but it is more common in people over age 40. It affects men more than women and whites more than African Americans. A retinal detachment is also more likely to occur in people who       - Are extremely nearsighted    - Have had a retinal detachment in the other eye    - Have a family history of retinal detachment    - Have had cataract surgery    - Have other eye diseases or disorders    - Have had an eye injury       Symptoms include an increase in the number of floaters, which are little \\\"cobwebs\\\" or specks that float about in your field of vision, and/or light flashes in the eye. It may also seem like there is a \\\"curtain\\\" over your field of vision.    A retinal detachment is a medical emergency. If not promptly treated, it can cause permanent vision loss. If you have any symptoms, see an eye care professional immediately. Treatment includes different types of surgery.    NIH: National Eye Institute\"\n        ],\n        \"semantic_type\": \"\",\n        \"description\": \"\"\n      }\n    },\n    {\n      \"column\": \"source\",\n      \"properties\": {\n        \"dtype\": \"category\",\n        \"num_unique_values\": 9,\n        \"samples\": [\n          \"GHR\",\n          \"CancerGov\",\n          \"NHLBI\"\n        ],\n        \"semantic_type\": \"\",\n        \"description\": \"\"\n      }\n    },\n    {\n      \"column\": \"focus_area\",\n      \"properties\": {\n        \"dtype\": \"category\",\n        \"num_unique_values\": 5126,\n        \"samples\": [\n          \"Adams-Oliver syndrome\",\n          \"Occupational Health\",\n          \"What I need to know about Diverticular Disease\"\n        ],\n        \"semantic_type\": \"\",\n        \"description\": \"\"\n      }\n    }\n  ]\n}",
              "type": "dataframe",
              "variable_name": "df"
            },
            "text/html": [
              "\n",
              "  <div id=\"df-59c136ef-c730-462e-bc94-5a0b4c75418c\" class=\"colab-df-container\">\n",
              "    <div>\n",
              "<style scoped>\n",
              "    .dataframe tbody tr th:only-of-type {\n",
              "        vertical-align: middle;\n",
              "    }\n",
              "\n",
              "    .dataframe tbody tr th {\n",
              "        vertical-align: top;\n",
              "    }\n",
              "\n",
              "    .dataframe thead th {\n",
              "        text-align: right;\n",
              "    }\n",
              "</style>\n",
              "<table border=\"1\" class=\"dataframe\">\n",
              "  <thead>\n",
              "    <tr style=\"text-align: right;\">\n",
              "      <th></th>\n",
              "      <th>question</th>\n",
              "      <th>answer</th>\n",
              "      <th>source</th>\n",
              "      <th>focus_area</th>\n",
              "    </tr>\n",
              "  </thead>\n",
              "  <tbody>\n",
              "    <tr>\n",
              "      <th>0</th>\n",
              "      <td>What is (are) Glaucoma ?</td>\n",
              "      <td>Glaucoma is a group of diseases that can damag...</td>\n",
              "      <td>NIHSeniorHealth</td>\n",
              "      <td>Glaucoma</td>\n",
              "    </tr>\n",
              "    <tr>\n",
              "      <th>1</th>\n",
              "      <td>What causes Glaucoma ?</td>\n",
              "      <td>Nearly 2.7 million people have glaucoma, a lea...</td>\n",
              "      <td>NIHSeniorHealth</td>\n",
              "      <td>Glaucoma</td>\n",
              "    </tr>\n",
              "    <tr>\n",
              "      <th>2</th>\n",
              "      <td>What are the symptoms of Glaucoma ?</td>\n",
              "      <td>Symptoms of Glaucoma  Glaucoma can develop in ...</td>\n",
              "      <td>NIHSeniorHealth</td>\n",
              "      <td>Glaucoma</td>\n",
              "    </tr>\n",
              "    <tr>\n",
              "      <th>3</th>\n",
              "      <td>What are the treatments for Glaucoma ?</td>\n",
              "      <td>Although open-angle glaucoma cannot be cured, ...</td>\n",
              "      <td>NIHSeniorHealth</td>\n",
              "      <td>Glaucoma</td>\n",
              "    </tr>\n",
              "    <tr>\n",
              "      <th>4</th>\n",
              "      <td>What is (are) Glaucoma ?</td>\n",
              "      <td>Glaucoma is a group of diseases that can damag...</td>\n",
              "      <td>NIHSeniorHealth</td>\n",
              "      <td>Glaucoma</td>\n",
              "    </tr>\n",
              "  </tbody>\n",
              "</table>\n",
              "</div>\n",
              "    <div class=\"colab-df-buttons\">\n",
              "\n",
              "  <div class=\"colab-df-container\">\n",
              "    <button class=\"colab-df-convert\" onclick=\"convertToInteractive('df-59c136ef-c730-462e-bc94-5a0b4c75418c')\"\n",
              "            title=\"Convert this dataframe to an interactive table.\"\n",
              "            style=\"display:none;\">\n",
              "\n",
              "  <svg xmlns=\"http://www.w3.org/2000/svg\" height=\"24px\" viewBox=\"0 -960 960 960\">\n",
              "    <path d=\"M120-120v-720h720v720H120Zm60-500h600v-160H180v160Zm220 220h160v-160H400v160Zm0 220h160v-160H400v160ZM180-400h160v-160H180v160Zm440 0h160v-160H620v160ZM180-180h160v-160H180v160Zm440 0h160v-160H620v160Z\"/>\n",
              "  </svg>\n",
              "    </button>\n",
              "\n",
              "  <style>\n",
              "    .colab-df-container {\n",
              "      display:flex;\n",
              "      gap: 12px;\n",
              "    }\n",
              "\n",
              "    .colab-df-convert {\n",
              "      background-color: #E8F0FE;\n",
              "      border: none;\n",
              "      border-radius: 50%;\n",
              "      cursor: pointer;\n",
              "      display: none;\n",
              "      fill: #1967D2;\n",
              "      height: 32px;\n",
              "      padding: 0 0 0 0;\n",
              "      width: 32px;\n",
              "    }\n",
              "\n",
              "    .colab-df-convert:hover {\n",
              "      background-color: #E2EBFA;\n",
              "      box-shadow: 0px 1px 2px rgba(60, 64, 67, 0.3), 0px 1px 3px 1px rgba(60, 64, 67, 0.15);\n",
              "      fill: #174EA6;\n",
              "    }\n",
              "\n",
              "    .colab-df-buttons div {\n",
              "      margin-bottom: 4px;\n",
              "    }\n",
              "\n",
              "    [theme=dark] .colab-df-convert {\n",
              "      background-color: #3B4455;\n",
              "      fill: #D2E3FC;\n",
              "    }\n",
              "\n",
              "    [theme=dark] .colab-df-convert:hover {\n",
              "      background-color: #434B5C;\n",
              "      box-shadow: 0px 1px 3px 1px rgba(0, 0, 0, 0.15);\n",
              "      filter: drop-shadow(0px 1px 2px rgba(0, 0, 0, 0.3));\n",
              "      fill: #FFFFFF;\n",
              "    }\n",
              "  </style>\n",
              "\n",
              "    <script>\n",
              "      const buttonEl =\n",
              "        document.querySelector('#df-59c136ef-c730-462e-bc94-5a0b4c75418c button.colab-df-convert');\n",
              "      buttonEl.style.display =\n",
              "        google.colab.kernel.accessAllowed ? 'block' : 'none';\n",
              "\n",
              "      async function convertToInteractive(key) {\n",
              "        const element = document.querySelector('#df-59c136ef-c730-462e-bc94-5a0b4c75418c');\n",
              "        const dataTable =\n",
              "          await google.colab.kernel.invokeFunction('convertToInteractive',\n",
              "                                                    [key], {});\n",
              "        if (!dataTable) return;\n",
              "\n",
              "        const docLinkHtml = 'Like what you see? Visit the ' +\n",
              "          '<a target=\"_blank\" href=https://colab.research.google.com/notebooks/data_table.ipynb>data table notebook</a>'\n",
              "          + ' to learn more about interactive tables.';\n",
              "        element.innerHTML = '';\n",
              "        dataTable['output_type'] = 'display_data';\n",
              "        await google.colab.output.renderOutput(dataTable, element);\n",
              "        const docLink = document.createElement('div');\n",
              "        docLink.innerHTML = docLinkHtml;\n",
              "        element.appendChild(docLink);\n",
              "      }\n",
              "    </script>\n",
              "  </div>\n",
              "\n",
              "\n",
              "    <div id=\"df-29c1fe52-a6a8-4d6d-807d-e10359889f94\">\n",
              "      <button class=\"colab-df-quickchart\" onclick=\"quickchart('df-29c1fe52-a6a8-4d6d-807d-e10359889f94')\"\n",
              "                title=\"Suggest charts\"\n",
              "                style=\"display:none;\">\n",
              "\n",
              "<svg xmlns=\"http://www.w3.org/2000/svg\" height=\"24px\"viewBox=\"0 0 24 24\"\n",
              "     width=\"24px\">\n",
              "    <g>\n",
              "        <path d=\"M19 3H5c-1.1 0-2 .9-2 2v14c0 1.1.9 2 2 2h14c1.1 0 2-.9 2-2V5c0-1.1-.9-2-2-2zM9 17H7v-7h2v7zm4 0h-2V7h2v10zm4 0h-2v-4h2v4z\"/>\n",
              "    </g>\n",
              "</svg>\n",
              "      </button>\n",
              "\n",
              "<style>\n",
              "  .colab-df-quickchart {\n",
              "      --bg-color: #E8F0FE;\n",
              "      --fill-color: #1967D2;\n",
              "      --hover-bg-color: #E2EBFA;\n",
              "      --hover-fill-color: #174EA6;\n",
              "      --disabled-fill-color: #AAA;\n",
              "      --disabled-bg-color: #DDD;\n",
              "  }\n",
              "\n",
              "  [theme=dark] .colab-df-quickchart {\n",
              "      --bg-color: #3B4455;\n",
              "      --fill-color: #D2E3FC;\n",
              "      --hover-bg-color: #434B5C;\n",
              "      --hover-fill-color: #FFFFFF;\n",
              "      --disabled-bg-color: #3B4455;\n",
              "      --disabled-fill-color: #666;\n",
              "  }\n",
              "\n",
              "  .colab-df-quickchart {\n",
              "    background-color: var(--bg-color);\n",
              "    border: none;\n",
              "    border-radius: 50%;\n",
              "    cursor: pointer;\n",
              "    display: none;\n",
              "    fill: var(--fill-color);\n",
              "    height: 32px;\n",
              "    padding: 0;\n",
              "    width: 32px;\n",
              "  }\n",
              "\n",
              "  .colab-df-quickchart:hover {\n",
              "    background-color: var(--hover-bg-color);\n",
              "    box-shadow: 0 1px 2px rgba(60, 64, 67, 0.3), 0 1px 3px 1px rgba(60, 64, 67, 0.15);\n",
              "    fill: var(--button-hover-fill-color);\n",
              "  }\n",
              "\n",
              "  .colab-df-quickchart-complete:disabled,\n",
              "  .colab-df-quickchart-complete:disabled:hover {\n",
              "    background-color: var(--disabled-bg-color);\n",
              "    fill: var(--disabled-fill-color);\n",
              "    box-shadow: none;\n",
              "  }\n",
              "\n",
              "  .colab-df-spinner {\n",
              "    border: 2px solid var(--fill-color);\n",
              "    border-color: transparent;\n",
              "    border-bottom-color: var(--fill-color);\n",
              "    animation:\n",
              "      spin 1s steps(1) infinite;\n",
              "  }\n",
              "\n",
              "  @keyframes spin {\n",
              "    0% {\n",
              "      border-color: transparent;\n",
              "      border-bottom-color: var(--fill-color);\n",
              "      border-left-color: var(--fill-color);\n",
              "    }\n",
              "    20% {\n",
              "      border-color: transparent;\n",
              "      border-left-color: var(--fill-color);\n",
              "      border-top-color: var(--fill-color);\n",
              "    }\n",
              "    30% {\n",
              "      border-color: transparent;\n",
              "      border-left-color: var(--fill-color);\n",
              "      border-top-color: var(--fill-color);\n",
              "      border-right-color: var(--fill-color);\n",
              "    }\n",
              "    40% {\n",
              "      border-color: transparent;\n",
              "      border-right-color: var(--fill-color);\n",
              "      border-top-color: var(--fill-color);\n",
              "    }\n",
              "    60% {\n",
              "      border-color: transparent;\n",
              "      border-right-color: var(--fill-color);\n",
              "    }\n",
              "    80% {\n",
              "      border-color: transparent;\n",
              "      border-right-color: var(--fill-color);\n",
              "      border-bottom-color: var(--fill-color);\n",
              "    }\n",
              "    90% {\n",
              "      border-color: transparent;\n",
              "      border-bottom-color: var(--fill-color);\n",
              "    }\n",
              "  }\n",
              "</style>\n",
              "\n",
              "      <script>\n",
              "        async function quickchart(key) {\n",
              "          const quickchartButtonEl =\n",
              "            document.querySelector('#' + key + ' button');\n",
              "          quickchartButtonEl.disabled = true;  // To prevent multiple clicks.\n",
              "          quickchartButtonEl.classList.add('colab-df-spinner');\n",
              "          try {\n",
              "            const charts = await google.colab.kernel.invokeFunction(\n",
              "                'suggestCharts', [key], {});\n",
              "          } catch (error) {\n",
              "            console.error('Error during call to suggestCharts:', error);\n",
              "          }\n",
              "          quickchartButtonEl.classList.remove('colab-df-spinner');\n",
              "          quickchartButtonEl.classList.add('colab-df-quickchart-complete');\n",
              "        }\n",
              "        (() => {\n",
              "          let quickchartButtonEl =\n",
              "            document.querySelector('#df-29c1fe52-a6a8-4d6d-807d-e10359889f94 button');\n",
              "          quickchartButtonEl.style.display =\n",
              "            google.colab.kernel.accessAllowed ? 'block' : 'none';\n",
              "        })();\n",
              "      </script>\n",
              "    </div>\n",
              "\n",
              "    </div>\n",
              "  </div>\n"
            ],
            "text/plain": [
              "                                 question  \\\n",
              "0                What is (are) Glaucoma ?   \n",
              "1                  What causes Glaucoma ?   \n",
              "2     What are the symptoms of Glaucoma ?   \n",
              "3  What are the treatments for Glaucoma ?   \n",
              "4                What is (are) Glaucoma ?   \n",
              "\n",
              "                                              answer           source  \\\n",
              "0  Glaucoma is a group of diseases that can damag...  NIHSeniorHealth   \n",
              "1  Nearly 2.7 million people have glaucoma, a lea...  NIHSeniorHealth   \n",
              "2  Symptoms of Glaucoma  Glaucoma can develop in ...  NIHSeniorHealth   \n",
              "3  Although open-angle glaucoma cannot be cured, ...  NIHSeniorHealth   \n",
              "4  Glaucoma is a group of diseases that can damag...  NIHSeniorHealth   \n",
              "\n",
              "  focus_area  \n",
              "0   Glaucoma  \n",
              "1   Glaucoma  \n",
              "2   Glaucoma  \n",
              "3   Glaucoma  \n",
              "4   Glaucoma  "
            ]
          },
          "execution_count": 2,
          "metadata": {},
          "output_type": "execute_result"
        }
      ],
      "source": [
        "df = pd.read_csv(\"/content/drive/MyDrive/Colab Notebooks/Pytorch Capstone Projects/datasets/medquad.csv\")\n",
        "df.head()"
      ]
    },
    {
      "cell_type": "code",
      "execution_count": null,
      "metadata": {
        "colab": {
          "base_uri": "https://localhost:8080/"
        },
        "id": "DrN4mUP2Xlq9",
        "outputId": "1aa7d9c9-97fe-4952-cc19-96a6643ab78e"
      },
      "outputs": [
        {
          "data": {
            "text/plain": [
              "(16412, 4)"
            ]
          },
          "execution_count": 3,
          "metadata": {},
          "output_type": "execute_result"
        }
      ],
      "source": [
        "df.shape # 16,412 rows and 4 columns"
      ]
    },
    {
      "cell_type": "code",
      "execution_count": null,
      "metadata": {
        "colab": {
          "base_uri": "https://localhost:8080/"
        },
        "id": "E92QzMC8Y_su",
        "outputId": "4af60832-64a0-4746-a612-b8ea5ce2783f"
      },
      "outputs": [
        {
          "name": "stdout",
          "output_type": "stream",
          "text": [
            "<class 'pandas.core.frame.DataFrame'>\n",
            "RangeIndex: 16412 entries, 0 to 16411\n",
            "Data columns (total 4 columns):\n",
            " #   Column      Non-Null Count  Dtype \n",
            "---  ------      --------------  ----- \n",
            " 0   question    16412 non-null  object\n",
            " 1   answer      16407 non-null  object\n",
            " 2   source      16412 non-null  object\n",
            " 3   focus_area  16398 non-null  object\n",
            "dtypes: object(4)\n",
            "memory usage: 513.0+ KB\n"
          ]
        }
      ],
      "source": [
        "df.info()"
      ]
    },
    {
      "cell_type": "markdown",
      "metadata": {
        "id": "r9KNrVi_Q2i6"
      },
      "source": [
        "It looks like there are 16,412 question-answer pairs (rows), but there are some questions with answers missing. There are also a couple of pairs missing their focus area."
      ]
    },
    {
      "cell_type": "code",
      "execution_count": null,
      "metadata": {
        "colab": {
          "base_uri": "https://localhost:8080/",
          "height": 175
        },
        "id": "MkXCXG9mRIeM",
        "outputId": "27cfee33-52e0-49e9-a727-5186c2fc0bcf"
      },
      "outputs": [
        {
          "data": {
            "application/vnd.google.colaboratory.intrinsic+json": {
              "summary": "{\n  \"name\": \"df\",\n  \"rows\": 4,\n  \"fields\": [\n    {\n      \"column\": \"question\",\n      \"properties\": {\n        \"dtype\": \"string\",\n        \"num_unique_values\": 4,\n        \"samples\": [\n          14984,\n          \"20\",\n          \"16412\"\n        ],\n        \"semantic_type\": \"\",\n        \"description\": \"\"\n      }\n    },\n    {\n      \"column\": \"answer\",\n      \"properties\": {\n        \"dtype\": \"string\",\n        \"num_unique_values\": 4,\n        \"samples\": [\n          15817,\n          \"348\",\n          \"16407\"\n        ],\n        \"semantic_type\": \"\",\n        \"description\": \"\"\n      }\n    },\n    {\n      \"column\": \"source\",\n      \"properties\": {\n        \"dtype\": \"string\",\n        \"num_unique_values\": 4,\n        \"samples\": [\n          9,\n          \"5430\",\n          \"16412\"\n        ],\n        \"semantic_type\": \"\",\n        \"description\": \"\"\n      }\n    },\n    {\n      \"column\": \"focus_area\",\n      \"properties\": {\n        \"dtype\": \"string\",\n        \"num_unique_values\": 4,\n        \"samples\": [\n          5126,\n          \"53\",\n          \"16398\"\n        ],\n        \"semantic_type\": \"\",\n        \"description\": \"\"\n      }\n    }\n  ]\n}",
              "type": "dataframe"
            },
            "text/html": [
              "\n",
              "  <div id=\"df-03b9ff7f-ed95-4698-af75-8cd99b78d7bf\" class=\"colab-df-container\">\n",
              "    <div>\n",
              "<style scoped>\n",
              "    .dataframe tbody tr th:only-of-type {\n",
              "        vertical-align: middle;\n",
              "    }\n",
              "\n",
              "    .dataframe tbody tr th {\n",
              "        vertical-align: top;\n",
              "    }\n",
              "\n",
              "    .dataframe thead th {\n",
              "        text-align: right;\n",
              "    }\n",
              "</style>\n",
              "<table border=\"1\" class=\"dataframe\">\n",
              "  <thead>\n",
              "    <tr style=\"text-align: right;\">\n",
              "      <th></th>\n",
              "      <th>question</th>\n",
              "      <th>answer</th>\n",
              "      <th>source</th>\n",
              "      <th>focus_area</th>\n",
              "    </tr>\n",
              "  </thead>\n",
              "  <tbody>\n",
              "    <tr>\n",
              "      <th>count</th>\n",
              "      <td>16412</td>\n",
              "      <td>16407</td>\n",
              "      <td>16412</td>\n",
              "      <td>16398</td>\n",
              "    </tr>\n",
              "    <tr>\n",
              "      <th>unique</th>\n",
              "      <td>14984</td>\n",
              "      <td>15817</td>\n",
              "      <td>9</td>\n",
              "      <td>5126</td>\n",
              "    </tr>\n",
              "    <tr>\n",
              "      <th>top</th>\n",
              "      <td>What causes Causes of Diabetes ?</td>\n",
              "      <td>This condition is inherited in an autosomal re...</td>\n",
              "      <td>GHR</td>\n",
              "      <td>Breast Cancer</td>\n",
              "    </tr>\n",
              "    <tr>\n",
              "      <th>freq</th>\n",
              "      <td>20</td>\n",
              "      <td>348</td>\n",
              "      <td>5430</td>\n",
              "      <td>53</td>\n",
              "    </tr>\n",
              "  </tbody>\n",
              "</table>\n",
              "</div>\n",
              "    <div class=\"colab-df-buttons\">\n",
              "\n",
              "  <div class=\"colab-df-container\">\n",
              "    <button class=\"colab-df-convert\" onclick=\"convertToInteractive('df-03b9ff7f-ed95-4698-af75-8cd99b78d7bf')\"\n",
              "            title=\"Convert this dataframe to an interactive table.\"\n",
              "            style=\"display:none;\">\n",
              "\n",
              "  <svg xmlns=\"http://www.w3.org/2000/svg\" height=\"24px\" viewBox=\"0 -960 960 960\">\n",
              "    <path d=\"M120-120v-720h720v720H120Zm60-500h600v-160H180v160Zm220 220h160v-160H400v160Zm0 220h160v-160H400v160ZM180-400h160v-160H180v160Zm440 0h160v-160H620v160ZM180-180h160v-160H180v160Zm440 0h160v-160H620v160Z\"/>\n",
              "  </svg>\n",
              "    </button>\n",
              "\n",
              "  <style>\n",
              "    .colab-df-container {\n",
              "      display:flex;\n",
              "      gap: 12px;\n",
              "    }\n",
              "\n",
              "    .colab-df-convert {\n",
              "      background-color: #E8F0FE;\n",
              "      border: none;\n",
              "      border-radius: 50%;\n",
              "      cursor: pointer;\n",
              "      display: none;\n",
              "      fill: #1967D2;\n",
              "      height: 32px;\n",
              "      padding: 0 0 0 0;\n",
              "      width: 32px;\n",
              "    }\n",
              "\n",
              "    .colab-df-convert:hover {\n",
              "      background-color: #E2EBFA;\n",
              "      box-shadow: 0px 1px 2px rgba(60, 64, 67, 0.3), 0px 1px 3px 1px rgba(60, 64, 67, 0.15);\n",
              "      fill: #174EA6;\n",
              "    }\n",
              "\n",
              "    .colab-df-buttons div {\n",
              "      margin-bottom: 4px;\n",
              "    }\n",
              "\n",
              "    [theme=dark] .colab-df-convert {\n",
              "      background-color: #3B4455;\n",
              "      fill: #D2E3FC;\n",
              "    }\n",
              "\n",
              "    [theme=dark] .colab-df-convert:hover {\n",
              "      background-color: #434B5C;\n",
              "      box-shadow: 0px 1px 3px 1px rgba(0, 0, 0, 0.15);\n",
              "      filter: drop-shadow(0px 1px 2px rgba(0, 0, 0, 0.3));\n",
              "      fill: #FFFFFF;\n",
              "    }\n",
              "  </style>\n",
              "\n",
              "    <script>\n",
              "      const buttonEl =\n",
              "        document.querySelector('#df-03b9ff7f-ed95-4698-af75-8cd99b78d7bf button.colab-df-convert');\n",
              "      buttonEl.style.display =\n",
              "        google.colab.kernel.accessAllowed ? 'block' : 'none';\n",
              "\n",
              "      async function convertToInteractive(key) {\n",
              "        const element = document.querySelector('#df-03b9ff7f-ed95-4698-af75-8cd99b78d7bf');\n",
              "        const dataTable =\n",
              "          await google.colab.kernel.invokeFunction('convertToInteractive',\n",
              "                                                    [key], {});\n",
              "        if (!dataTable) return;\n",
              "\n",
              "        const docLinkHtml = 'Like what you see? Visit the ' +\n",
              "          '<a target=\"_blank\" href=https://colab.research.google.com/notebooks/data_table.ipynb>data table notebook</a>'\n",
              "          + ' to learn more about interactive tables.';\n",
              "        element.innerHTML = '';\n",
              "        dataTable['output_type'] = 'display_data';\n",
              "        await google.colab.output.renderOutput(dataTable, element);\n",
              "        const docLink = document.createElement('div');\n",
              "        docLink.innerHTML = docLinkHtml;\n",
              "        element.appendChild(docLink);\n",
              "      }\n",
              "    </script>\n",
              "  </div>\n",
              "\n",
              "\n",
              "    <div id=\"df-61498dd7-e67f-4473-87e0-99c26121bdb7\">\n",
              "      <button class=\"colab-df-quickchart\" onclick=\"quickchart('df-61498dd7-e67f-4473-87e0-99c26121bdb7')\"\n",
              "                title=\"Suggest charts\"\n",
              "                style=\"display:none;\">\n",
              "\n",
              "<svg xmlns=\"http://www.w3.org/2000/svg\" height=\"24px\"viewBox=\"0 0 24 24\"\n",
              "     width=\"24px\">\n",
              "    <g>\n",
              "        <path d=\"M19 3H5c-1.1 0-2 .9-2 2v14c0 1.1.9 2 2 2h14c1.1 0 2-.9 2-2V5c0-1.1-.9-2-2-2zM9 17H7v-7h2v7zm4 0h-2V7h2v10zm4 0h-2v-4h2v4z\"/>\n",
              "    </g>\n",
              "</svg>\n",
              "      </button>\n",
              "\n",
              "<style>\n",
              "  .colab-df-quickchart {\n",
              "      --bg-color: #E8F0FE;\n",
              "      --fill-color: #1967D2;\n",
              "      --hover-bg-color: #E2EBFA;\n",
              "      --hover-fill-color: #174EA6;\n",
              "      --disabled-fill-color: #AAA;\n",
              "      --disabled-bg-color: #DDD;\n",
              "  }\n",
              "\n",
              "  [theme=dark] .colab-df-quickchart {\n",
              "      --bg-color: #3B4455;\n",
              "      --fill-color: #D2E3FC;\n",
              "      --hover-bg-color: #434B5C;\n",
              "      --hover-fill-color: #FFFFFF;\n",
              "      --disabled-bg-color: #3B4455;\n",
              "      --disabled-fill-color: #666;\n",
              "  }\n",
              "\n",
              "  .colab-df-quickchart {\n",
              "    background-color: var(--bg-color);\n",
              "    border: none;\n",
              "    border-radius: 50%;\n",
              "    cursor: pointer;\n",
              "    display: none;\n",
              "    fill: var(--fill-color);\n",
              "    height: 32px;\n",
              "    padding: 0;\n",
              "    width: 32px;\n",
              "  }\n",
              "\n",
              "  .colab-df-quickchart:hover {\n",
              "    background-color: var(--hover-bg-color);\n",
              "    box-shadow: 0 1px 2px rgba(60, 64, 67, 0.3), 0 1px 3px 1px rgba(60, 64, 67, 0.15);\n",
              "    fill: var(--button-hover-fill-color);\n",
              "  }\n",
              "\n",
              "  .colab-df-quickchart-complete:disabled,\n",
              "  .colab-df-quickchart-complete:disabled:hover {\n",
              "    background-color: var(--disabled-bg-color);\n",
              "    fill: var(--disabled-fill-color);\n",
              "    box-shadow: none;\n",
              "  }\n",
              "\n",
              "  .colab-df-spinner {\n",
              "    border: 2px solid var(--fill-color);\n",
              "    border-color: transparent;\n",
              "    border-bottom-color: var(--fill-color);\n",
              "    animation:\n",
              "      spin 1s steps(1) infinite;\n",
              "  }\n",
              "\n",
              "  @keyframes spin {\n",
              "    0% {\n",
              "      border-color: transparent;\n",
              "      border-bottom-color: var(--fill-color);\n",
              "      border-left-color: var(--fill-color);\n",
              "    }\n",
              "    20% {\n",
              "      border-color: transparent;\n",
              "      border-left-color: var(--fill-color);\n",
              "      border-top-color: var(--fill-color);\n",
              "    }\n",
              "    30% {\n",
              "      border-color: transparent;\n",
              "      border-left-color: var(--fill-color);\n",
              "      border-top-color: var(--fill-color);\n",
              "      border-right-color: var(--fill-color);\n",
              "    }\n",
              "    40% {\n",
              "      border-color: transparent;\n",
              "      border-right-color: var(--fill-color);\n",
              "      border-top-color: var(--fill-color);\n",
              "    }\n",
              "    60% {\n",
              "      border-color: transparent;\n",
              "      border-right-color: var(--fill-color);\n",
              "    }\n",
              "    80% {\n",
              "      border-color: transparent;\n",
              "      border-right-color: var(--fill-color);\n",
              "      border-bottom-color: var(--fill-color);\n",
              "    }\n",
              "    90% {\n",
              "      border-color: transparent;\n",
              "      border-bottom-color: var(--fill-color);\n",
              "    }\n",
              "  }\n",
              "</style>\n",
              "\n",
              "      <script>\n",
              "        async function quickchart(key) {\n",
              "          const quickchartButtonEl =\n",
              "            document.querySelector('#' + key + ' button');\n",
              "          quickchartButtonEl.disabled = true;  // To prevent multiple clicks.\n",
              "          quickchartButtonEl.classList.add('colab-df-spinner');\n",
              "          try {\n",
              "            const charts = await google.colab.kernel.invokeFunction(\n",
              "                'suggestCharts', [key], {});\n",
              "          } catch (error) {\n",
              "            console.error('Error during call to suggestCharts:', error);\n",
              "          }\n",
              "          quickchartButtonEl.classList.remove('colab-df-spinner');\n",
              "          quickchartButtonEl.classList.add('colab-df-quickchart-complete');\n",
              "        }\n",
              "        (() => {\n",
              "          let quickchartButtonEl =\n",
              "            document.querySelector('#df-61498dd7-e67f-4473-87e0-99c26121bdb7 button');\n",
              "          quickchartButtonEl.style.display =\n",
              "            google.colab.kernel.accessAllowed ? 'block' : 'none';\n",
              "        })();\n",
              "      </script>\n",
              "    </div>\n",
              "\n",
              "    </div>\n",
              "  </div>\n"
            ],
            "text/plain": [
              "                                question  \\\n",
              "count                              16412   \n",
              "unique                             14984   \n",
              "top     What causes Causes of Diabetes ?   \n",
              "freq                                  20   \n",
              "\n",
              "                                                   answer source  \\\n",
              "count                                               16407  16412   \n",
              "unique                                              15817      9   \n",
              "top     This condition is inherited in an autosomal re...    GHR   \n",
              "freq                                                  348   5430   \n",
              "\n",
              "           focus_area  \n",
              "count           16398  \n",
              "unique           5126  \n",
              "top     Breast Cancer  \n",
              "freq               53  "
            ]
          },
          "execution_count": 5,
          "metadata": {},
          "output_type": "execute_result"
        }
      ],
      "source": [
        "df.describe()"
      ]
    },
    {
      "cell_type": "markdown",
      "metadata": {
        "id": "LcroB839SDSu"
      },
      "source": [
        "**Initial Observations**\n",
        "\n",
        "- We have over 16,000 entries in total.\n",
        "- The ``question`` column has some repeated questions (around 15,000 unique ones), with \"What causes Causes of Diabetes ?\" being the most frequent.\n",
        "- ``The answer`` column has even more unique answers (around 15,800), and a specific answer appears 348 times.\n",
        "- There are only 9 unique ``source`` values, and \"GHR\" is the most common source.\n",
        "- The ``focus_area`` column shows a large variety, with over 5,000 unique areas, and \"Breast Cancer\" is the most frequent focus area, but only appears 53 times. This suggests the data is quite diverse in terms of medical topics.\n",
        "\n",
        "This initial look tells us that while we have a good amount of data, there's some repetition in questions and answers, and a wide range of medical topics covered, though some appear more often than others."
      ]
    },
    {
      "cell_type": "markdown",
      "metadata": {
        "id": "N6wnaFlXuYn1"
      },
      "source": [
        "---"
      ]
    },
    {
      "cell_type": "markdown",
      "metadata": {
        "id": "Q02MopUcScwr"
      },
      "source": [
        "## Data Exploration and Visualization\n",
        "\n",
        "Next, let's explore and visualize the data!\n"
      ]
    },
    {
      "cell_type": "markdown",
      "metadata": {
        "id": "UXme7VeLSlTO"
      },
      "source": [
        "**Focus Area**"
      ]
    },
    {
      "cell_type": "code",
      "execution_count": null,
      "metadata": {
        "colab": {
          "base_uri": "https://localhost:8080/"
        },
        "id": "I_0bInduZDAW",
        "outputId": "189a8162-c9ac-4d40-a020-74041a884611"
      },
      "outputs": [
        {
          "data": {
            "text/plain": [
              "5126"
            ]
          },
          "execution_count": 6,
          "metadata": {},
          "output_type": "execute_result"
        }
      ],
      "source": [
        "# Count the number of unique focus areas\n",
        "df[\"focus_area\"].nunique()"
      ]
    },
    {
      "cell_type": "markdown",
      "metadata": {
        "id": "yHyWd_NSSvaJ"
      },
      "source": [
        "There are 5,126 unique focus areas. Let's take a look at the most commonly occurring focus areas."
      ]
    },
    {
      "cell_type": "code",
      "execution_count": null,
      "metadata": {
        "colab": {
          "base_uri": "https://localhost:8080/",
          "height": 899
        },
        "id": "YJQmZs1fSpry",
        "outputId": "3722b5c0-1cb6-4c32-f3d9-23240171923b"
      },
      "outputs": [
        {
          "data": {
            "text/html": [
              "<div>\n",
              "<style scoped>\n",
              "    .dataframe tbody tr th:only-of-type {\n",
              "        vertical-align: middle;\n",
              "    }\n",
              "\n",
              "    .dataframe tbody tr th {\n",
              "        vertical-align: top;\n",
              "    }\n",
              "\n",
              "    .dataframe thead th {\n",
              "        text-align: right;\n",
              "    }\n",
              "</style>\n",
              "<table border=\"1\" class=\"dataframe\">\n",
              "  <thead>\n",
              "    <tr style=\"text-align: right;\">\n",
              "      <th></th>\n",
              "      <th>count</th>\n",
              "    </tr>\n",
              "    <tr>\n",
              "      <th>focus_area</th>\n",
              "      <th></th>\n",
              "    </tr>\n",
              "  </thead>\n",
              "  <tbody>\n",
              "    <tr>\n",
              "      <th>Breast Cancer</th>\n",
              "      <td>53</td>\n",
              "    </tr>\n",
              "    <tr>\n",
              "      <th>Prostate Cancer</th>\n",
              "      <td>43</td>\n",
              "    </tr>\n",
              "    <tr>\n",
              "      <th>Stroke</th>\n",
              "      <td>35</td>\n",
              "    </tr>\n",
              "    <tr>\n",
              "      <th>Skin Cancer</th>\n",
              "      <td>34</td>\n",
              "    </tr>\n",
              "    <tr>\n",
              "      <th>Alzheimer's Disease</th>\n",
              "      <td>30</td>\n",
              "    </tr>\n",
              "    <tr>\n",
              "      <th>Lung Cancer</th>\n",
              "      <td>29</td>\n",
              "    </tr>\n",
              "    <tr>\n",
              "      <th>Colorectal Cancer</th>\n",
              "      <td>29</td>\n",
              "    </tr>\n",
              "    <tr>\n",
              "      <th>High Blood Cholesterol</th>\n",
              "      <td>28</td>\n",
              "    </tr>\n",
              "    <tr>\n",
              "      <th>Causes of Diabetes</th>\n",
              "      <td>28</td>\n",
              "    </tr>\n",
              "    <tr>\n",
              "      <th>Heart Failure</th>\n",
              "      <td>28</td>\n",
              "    </tr>\n",
              "    <tr>\n",
              "      <th>Heart Attack</th>\n",
              "      <td>28</td>\n",
              "    </tr>\n",
              "    <tr>\n",
              "      <th>High Blood Pressure</th>\n",
              "      <td>27</td>\n",
              "    </tr>\n",
              "    <tr>\n",
              "      <th>Parkinson's Disease</th>\n",
              "      <td>25</td>\n",
              "    </tr>\n",
              "    <tr>\n",
              "      <th>Leukemia</th>\n",
              "      <td>22</td>\n",
              "    </tr>\n",
              "    <tr>\n",
              "      <th>Shingles</th>\n",
              "      <td>21</td>\n",
              "    </tr>\n",
              "    <tr>\n",
              "      <th>Osteoporosis</th>\n",
              "      <td>21</td>\n",
              "    </tr>\n",
              "    <tr>\n",
              "      <th>Age-related Macular Degeneration</th>\n",
              "      <td>20</td>\n",
              "    </tr>\n",
              "    <tr>\n",
              "      <th>Hemochromatosis</th>\n",
              "      <td>20</td>\n",
              "    </tr>\n",
              "    <tr>\n",
              "      <th>Diabetes</th>\n",
              "      <td>20</td>\n",
              "    </tr>\n",
              "    <tr>\n",
              "      <th>Diabetic Retinopathy</th>\n",
              "      <td>19</td>\n",
              "    </tr>\n",
              "    <tr>\n",
              "      <th>Gum (Periodontal) Disease</th>\n",
              "      <td>19</td>\n",
              "    </tr>\n",
              "    <tr>\n",
              "      <th>Psoriasis</th>\n",
              "      <td>19</td>\n",
              "    </tr>\n",
              "    <tr>\n",
              "      <th>Kidney Disease</th>\n",
              "      <td>17</td>\n",
              "    </tr>\n",
              "    <tr>\n",
              "      <th>Dry Mouth</th>\n",
              "      <td>16</td>\n",
              "    </tr>\n",
              "    <tr>\n",
              "      <th>COPD</th>\n",
              "      <td>16</td>\n",
              "    </tr>\n",
              "  </tbody>\n",
              "</table>\n",
              "</div><br><label><b>dtype:</b> int64</label>"
            ],
            "text/plain": [
              "focus_area\n",
              "Breast Cancer                       53\n",
              "Prostate Cancer                     43\n",
              "Stroke                              35\n",
              "Skin Cancer                         34\n",
              "Alzheimer's Disease                 30\n",
              "Lung Cancer                         29\n",
              "Colorectal Cancer                   29\n",
              "High Blood Cholesterol              28\n",
              "Causes of Diabetes                  28\n",
              "Heart Failure                       28\n",
              "Heart Attack                        28\n",
              "High Blood Pressure                 27\n",
              "Parkinson's Disease                 25\n",
              "Leukemia                            22\n",
              "Shingles                            21\n",
              "Osteoporosis                        21\n",
              "Age-related Macular Degeneration    20\n",
              "Hemochromatosis                     20\n",
              "Diabetes                            20\n",
              "Diabetic Retinopathy                19\n",
              "Gum (Periodontal) Disease           19\n",
              "Psoriasis                           19\n",
              "Kidney Disease                      17\n",
              "Dry Mouth                           16\n",
              "COPD                                16\n",
              "Name: count, dtype: int64"
            ]
          },
          "execution_count": 7,
          "metadata": {},
          "output_type": "execute_result"
        }
      ],
      "source": [
        "# Counts of the top 25 most common focus areas\n",
        "df[\"focus_area\"].value_counts()[:25]"
      ]
    },
    {
      "cell_type": "markdown",
      "metadata": {
        "id": "dEVnwCbYVIK-"
      },
      "source": [
        "Instead of trying to classify 5,126 unique classes, let's group the top 25 most common focus areas into **5** broader categories (focus groups):\n",
        "\n",
        "- Cancers\n",
        "- Cardiovascular diseases\n",
        "- Metabolic and endocrine disorders\n",
        "- Neurological and cognitive disorders\n",
        "- Other age-related and immune disorders"
      ]
    },
    {
      "cell_type": "code",
      "execution_count": null,
      "metadata": {
        "colab": {
          "base_uri": "https://localhost:8080/"
        },
        "id": "uPLSZOHUS5BG",
        "outputId": "2fb05ede-3ece-471e-a3e5-0770f1cc971e"
      },
      "outputs": [
        {
          "name": "stdout",
          "output_type": "stream",
          "text": [
            "Number of unique focus groups: 5\n"
          ]
        }
      ],
      "source": [
        "# Group the top 25 most common focus areas into 5 broader categories (focus groups)\n",
        "focus_area_map = {\n",
        "    'Cancers': ['Breast Cancer', 'Prostate Cancer', 'Skin Cancer',\n",
        "                'Colorectal Cancer', 'Lung Cancer', 'Leukemia'],\n",
        "\n",
        "    'Cardiovascular Diseases': ['Stroke', 'Heart Failure', 'Heart Attack',\n",
        "                                'High Blood Cholesterol', 'High Blood Pressure'],\n",
        "\n",
        "    'Metabolic & Endocrine Disorders': ['Causes of Diabetes', 'Diabetes', 'Diabetic Retinopathy',\n",
        "                                        'Hemochromatosis', 'Kidney Disease'],\n",
        "\n",
        "    'Neurological & Cognitive Disorders': ['Alzheimer\\'s Disease', 'Parkinson\\'s Disease', 'Balance Problems'],\n",
        "\n",
        "    'Other Age-Related & Immune Disorders': ['Shingles', 'Osteoporosis', 'Age-related Macular Degeneration',\n",
        "                                             'Psoriasis', 'Gum (Periodontal) Disease', 'Dry Mouth']\n",
        "}\n",
        "\n",
        "\n",
        "# Create reverse mapping\n",
        "condition_to_focus_area = {\n",
        "    condition: focus_area\n",
        "    for focus_area, conditions in focus_area_map.items()\n",
        "    for condition in conditions\n",
        "}\n",
        "\n",
        "# Create new column `focus_group` containing focus group\n",
        "df['focus_group'] = df['focus_area'].map(condition_to_focus_area)\n",
        "\n",
        "# Verify the number of unique focus groups\n",
        "n_focus_groups = df['focus_group'].nunique()\n",
        "print(\"Number of unique focus groups:\", n_focus_groups)"
      ]
    },
    {
      "cell_type": "code",
      "execution_count": null,
      "metadata": {
        "colab": {
          "base_uri": "https://localhost:8080/",
          "height": 241
        },
        "id": "veFjoVBXXKo3",
        "outputId": "3d12a1e2-84b7-495b-f942-c2d67781984c"
      },
      "outputs": [
        {
          "data": {
            "text/html": [
              "<div>\n",
              "<style scoped>\n",
              "    .dataframe tbody tr th:only-of-type {\n",
              "        vertical-align: middle;\n",
              "    }\n",
              "\n",
              "    .dataframe tbody tr th {\n",
              "        vertical-align: top;\n",
              "    }\n",
              "\n",
              "    .dataframe thead th {\n",
              "        text-align: right;\n",
              "    }\n",
              "</style>\n",
              "<table border=\"1\" class=\"dataframe\">\n",
              "  <thead>\n",
              "    <tr style=\"text-align: right;\">\n",
              "      <th></th>\n",
              "      <th>0</th>\n",
              "    </tr>\n",
              "  </thead>\n",
              "  <tbody>\n",
              "    <tr>\n",
              "      <th>question</th>\n",
              "      <td>0</td>\n",
              "    </tr>\n",
              "    <tr>\n",
              "      <th>answer</th>\n",
              "      <td>5</td>\n",
              "    </tr>\n",
              "    <tr>\n",
              "      <th>source</th>\n",
              "      <td>0</td>\n",
              "    </tr>\n",
              "    <tr>\n",
              "      <th>focus_area</th>\n",
              "      <td>14</td>\n",
              "    </tr>\n",
              "    <tr>\n",
              "      <th>focus_group</th>\n",
              "      <td>15765</td>\n",
              "    </tr>\n",
              "  </tbody>\n",
              "</table>\n",
              "</div><br><label><b>dtype:</b> int64</label>"
            ],
            "text/plain": [
              "question           0\n",
              "answer             5\n",
              "source             0\n",
              "focus_area        14\n",
              "focus_group    15765\n",
              "dtype: int64"
            ]
          },
          "execution_count": 9,
          "metadata": {},
          "output_type": "execute_result"
        }
      ],
      "source": [
        "df.isnull().sum()"
      ]
    },
    {
      "cell_type": "markdown",
      "metadata": {
        "id": "NoNGMx-8XEEF"
      },
      "source": [
        "When we created the new column ``focus_group``, it returned ``null`` values for rows without a focus group (corresponding to rows whose focus area was not in the top 25 most occurring).\n",
        "\n",
        "We'll use ``.dropna()`` to drop the rows with nan values."
      ]
    },
    {
      "cell_type": "code",
      "execution_count": null,
      "metadata": {
        "colab": {
          "base_uri": "https://localhost:8080/"
        },
        "id": "zqJiP_hrWdzX",
        "outputId": "94e5aeba-8800-4aec-8748-6be498078e91"
      },
      "outputs": [
        {
          "data": {
            "text/plain": [
              "(647, 5)"
            ]
          },
          "execution_count": 10,
          "metadata": {},
          "output_type": "execute_result"
        }
      ],
      "source": [
        "df.dropna(inplace=True)\n",
        "\n",
        "df.shape"
      ]
    },
    {
      "cell_type": "markdown",
      "metadata": {
        "id": "VPYaR8j7aKMn"
      },
      "source": [
        "Let's visualize counts and proportions within each focus group."
      ]
    },
    {
      "cell_type": "code",
      "execution_count": null,
      "metadata": {
        "colab": {
          "base_uri": "https://localhost:8080/",
          "height": 272
        },
        "id": "4UvhjfKzXYOl",
        "outputId": "138a5fc7-d0da-44b2-9ee7-06f18bd2fff2"
      },
      "outputs": [
        {
          "data": {
            "text/html": [
              "<div>\n",
              "<style scoped>\n",
              "    .dataframe tbody tr th:only-of-type {\n",
              "        vertical-align: middle;\n",
              "    }\n",
              "\n",
              "    .dataframe tbody tr th {\n",
              "        vertical-align: top;\n",
              "    }\n",
              "\n",
              "    .dataframe thead th {\n",
              "        text-align: right;\n",
              "    }\n",
              "</style>\n",
              "<table border=\"1\" class=\"dataframe\">\n",
              "  <thead>\n",
              "    <tr style=\"text-align: right;\">\n",
              "      <th></th>\n",
              "      <th>count</th>\n",
              "    </tr>\n",
              "    <tr>\n",
              "      <th>focus_group</th>\n",
              "      <th></th>\n",
              "    </tr>\n",
              "  </thead>\n",
              "  <tbody>\n",
              "    <tr>\n",
              "      <th>Cancers</th>\n",
              "      <td>210</td>\n",
              "    </tr>\n",
              "    <tr>\n",
              "      <th>Cardiovascular Diseases</th>\n",
              "      <td>146</td>\n",
              "    </tr>\n",
              "    <tr>\n",
              "      <th>Other Age-Related &amp; Immune Disorders</th>\n",
              "      <td>116</td>\n",
              "    </tr>\n",
              "    <tr>\n",
              "      <th>Metabolic &amp; Endocrine Disorders</th>\n",
              "      <td>104</td>\n",
              "    </tr>\n",
              "    <tr>\n",
              "      <th>Neurological &amp; Cognitive Disorders</th>\n",
              "      <td>71</td>\n",
              "    </tr>\n",
              "  </tbody>\n",
              "</table>\n",
              "</div><br><label><b>dtype:</b> int64</label>"
            ],
            "text/plain": [
              "focus_group\n",
              "Cancers                                 210\n",
              "Cardiovascular Diseases                 146\n",
              "Other Age-Related & Immune Disorders    116\n",
              "Metabolic & Endocrine Disorders         104\n",
              "Neurological & Cognitive Disorders       71\n",
              "Name: count, dtype: int64"
            ]
          },
          "execution_count": 11,
          "metadata": {},
          "output_type": "execute_result"
        }
      ],
      "source": [
        "df[\"focus_group\"].value_counts()"
      ]
    },
    {
      "cell_type": "code",
      "execution_count": null,
      "metadata": {
        "colab": {
          "base_uri": "https://localhost:8080/",
          "height": 506
        },
        "id": "2LVI3GdMbPz9",
        "outputId": "379e0a4e-80e5-40e5-a6df-cab7171e9be4"
      },
      "outputs": [
        {
          "data": {
            "image/png": "[encoded data removed]",
            "text/plain": [
              "<Figure size 1000x600 with 1 Axes>"
            ]
          },
          "metadata": {},
          "output_type": "display_data"
        }
      ],
      "source": [
        "# Calculate the proportions of the focus groups\n",
        "focus_group_proportions = df['focus_group'].value_counts(normalize=True) * 100\n",
        "\n",
        "# Get colors from a suitable palette\n",
        "colors = sns.color_palette('viridis', len(focus_group_proportions))\n",
        "\n",
        "# Bar chart\n",
        "plt.figure(figsize=(10, 6))\n",
        "bars = plt.bar(focus_group_proportions.index, focus_group_proportions, color=colors)\n",
        "\n",
        "# Write percentages above the bars\n",
        "for bar, percentage in zip(bars, focus_group_proportions):\n",
        "    plt.text(bar.get_x() + bar.get_width() / 2, bar.get_height() + 0.5, f'{percentage:.1f}%', ha='center', fontsize=10)\n",
        "\n",
        "# Graph settings\n",
        "plt.title('Focus Group Proportions (%)', fontsize=14)\n",
        "plt.xlabel('Focus Group', fontsize=12)\n",
        "plt.ylabel('Proportion (%)', fontsize=12)\n",
        "plt.xticks(rotation=30, ha=\"right\")\n",
        "plt.grid(axis='y', linestyle='--', alpha=0.7)\n",
        "plt.ylim(0, 100) # Set y-axis limit to 100\n",
        "plt.tight_layout()\n",
        "plt.show()"
      ]
    },
    {
      "cell_type": "markdown",
      "metadata": {
        "id": "YslkLPTHJ1Xn"
      },
      "source": [
        "Looking at the counts and proportions of the focus groups after dropping the rows with missing focus_group values, we can observe the distribution of the remaining data:\n",
        "\n",
        "- **Cancers** is the largest focus group with 210 entries, making up the highest proportion of the dataset.\n",
        "- **Cardiovascular Diseases** is the second largest group with 146 entries.\n",
        "- **Other Age-Related & Immune Disorders** follows with 116 entries.\n",
        "- **Metabolic & Endocrine Disorders** has 104 entries.\n",
        "- **Neurological & Cognitive Disorders** is the smallest group with 71 entries.\n",
        "\n",
        "The bar chart visualizing the proportions clearly shows this imbalance. The 'Cancers' group accounts for a significant portion, while 'Neurological & Cognitive Disorders' is the least represented. This class imbalance is important to keep in mind when evaluating model performance, as models can sometimes perform better on classes with more training examples. **Stratification** we'll make during the train-test split will help ensure that this distribution is maintained in both sets, providing a more realistic evaluation of how the model performs on each class."
      ]
    },
    {
      "cell_type": "markdown",
      "source": [
        "---"
      ],
      "metadata": {
        "id": "ld68B_XAO2Uo"
      }
    },
    {
      "cell_type": "markdown",
      "metadata": {
        "id": "8meGaXl3cv67"
      },
      "source": [
        "**Answer**\n",
        "\n",
        "Let's calculate descriptive statistics for the text lengths in the ``answer`` column, which will serve as the training texts.\n"
      ]
    },
    {
      "cell_type": "code",
      "execution_count": null,
      "metadata": {
        "colab": {
          "base_uri": "https://localhost:8080/",
          "height": 300
        },
        "id": "qLIWs1pGcJdG",
        "outputId": "6f225cbf-464d-43e8-a247-4ea66a53666a"
      },
      "outputs": [
        {
          "data": {
            "application/vnd.google.colaboratory.intrinsic+json": {
              "summary": "{\n  \"name\": \"answer_length_stats\",\n  \"rows\": 8,\n  \"fields\": [\n    {\n      \"column\": \"answer_char_lenght\",\n      \"properties\": {\n        \"dtype\": \"number\",\n        \"std\": 9831.352472911969,\n        \"min\": 87.0,\n        \"max\": 29046.0,\n        \"num_unique_values\": 8,\n        \"samples\": [\n          2084.3956723338483,\n          1066.0,\n          647.0\n        ],\n        \"semantic_type\": \"\",\n        \"description\": \"\"\n      }\n    },\n    {\n      \"column\": \"answer_word_count\",\n      \"properties\": {\n        \"dtype\": \"number\",\n        \"std\": 1423.9655628201815,\n        \"min\": 10.0,\n        \"max\": 4281.0,\n        \"num_unique_values\": 8,\n        \"samples\": [\n          330.58423493044825,\n          171.0,\n          647.0\n        ],\n        \"semantic_type\": \"\",\n        \"description\": \"\"\n      }\n    }\n  ]\n}",
              "type": "dataframe",
              "variable_name": "answer_length_stats"
            },
            "text/html": [
              "\n",
              "  <div id=\"df-d7c1a38b-663a-4be8-9098-a964130454ce\" class=\"colab-df-container\">\n",
              "    <div>\n",
              "<style scoped>\n",
              "    .dataframe tbody tr th:only-of-type {\n",
              "        vertical-align: middle;\n",
              "    }\n",
              "\n",
              "    .dataframe tbody tr th {\n",
              "        vertical-align: top;\n",
              "    }\n",
              "\n",
              "    .dataframe thead th {\n",
              "        text-align: right;\n",
              "    }\n",
              "</style>\n",
              "<table border=\"1\" class=\"dataframe\">\n",
              "  <thead>\n",
              "    <tr style=\"text-align: right;\">\n",
              "      <th></th>\n",
              "      <th>answer_char_lenght</th>\n",
              "      <th>answer_word_count</th>\n",
              "    </tr>\n",
              "  </thead>\n",
              "  <tbody>\n",
              "    <tr>\n",
              "      <th>count</th>\n",
              "      <td>647.000000</td>\n",
              "      <td>647.000000</td>\n",
              "    </tr>\n",
              "    <tr>\n",
              "      <th>mean</th>\n",
              "      <td>2084.395672</td>\n",
              "      <td>330.584235</td>\n",
              "    </tr>\n",
              "    <tr>\n",
              "      <th>std</th>\n",
              "      <td>2736.381687</td>\n",
              "      <td>418.234941</td>\n",
              "    </tr>\n",
              "    <tr>\n",
              "      <th>min</th>\n",
              "      <td>87.000000</td>\n",
              "      <td>10.000000</td>\n",
              "    </tr>\n",
              "    <tr>\n",
              "      <th>25%</th>\n",
              "      <td>458.500000</td>\n",
              "      <td>75.000000</td>\n",
              "    </tr>\n",
              "    <tr>\n",
              "      <th>50%</th>\n",
              "      <td>1066.000000</td>\n",
              "      <td>171.000000</td>\n",
              "    </tr>\n",
              "    <tr>\n",
              "      <th>75%</th>\n",
              "      <td>2598.000000</td>\n",
              "      <td>423.500000</td>\n",
              "    </tr>\n",
              "    <tr>\n",
              "      <th>max</th>\n",
              "      <td>29046.000000</td>\n",
              "      <td>4281.000000</td>\n",
              "    </tr>\n",
              "  </tbody>\n",
              "</table>\n",
              "</div>\n",
              "    <div class=\"colab-df-buttons\">\n",
              "\n",
              "  <div class=\"colab-df-container\">\n",
              "    <button class=\"colab-df-convert\" onclick=\"convertToInteractive('df-d7c1a38b-663a-4be8-9098-a964130454ce')\"\n",
              "            title=\"Convert this dataframe to an interactive table.\"\n",
              "            style=\"display:none;\">\n",
              "\n",
              "  <svg xmlns=\"http://www.w3.org/2000/svg\" height=\"24px\" viewBox=\"0 -960 960 960\">\n",
              "    <path d=\"M120-120v-720h720v720H120Zm60-500h600v-160H180v160Zm220 220h160v-160H400v160Zm0 220h160v-160H400v160ZM180-400h160v-160H180v160Zm440 0h160v-160H620v160ZM180-180h160v-160H180v160Zm440 0h160v-160H620v160Z\"/>\n",
              "  </svg>\n",
              "    </button>\n",
              "\n",
              "  <style>\n",
              "    .colab-df-container {\n",
              "      display:flex;\n",
              "      gap: 12px;\n",
              "    }\n",
              "\n",
              "    .colab-df-convert {\n",
              "      background-color: #E8F0FE;\n",
              "      border: none;\n",
              "      border-radius: 50%;\n",
              "      cursor: pointer;\n",
              "      display: none;\n",
              "      fill: #1967D2;\n",
              "      height: 32px;\n",
              "      padding: 0 0 0 0;\n",
              "      width: 32px;\n",
              "    }\n",
              "\n",
              "    .colab-df-convert:hover {\n",
              "      background-color: #E2EBFA;\n",
              "      box-shadow: 0px 1px 2px rgba(60, 64, 67, 0.3), 0px 1px 3px 1px rgba(60, 64, 67, 0.15);\n",
              "      fill: #174EA6;\n",
              "    }\n",
              "\n",
              "    .colab-df-buttons div {\n",
              "      margin-bottom: 4px;\n",
              "    }\n",
              "\n",
              "    [theme=dark] .colab-df-convert {\n",
              "      background-color: #3B4455;\n",
              "      fill: #D2E3FC;\n",
              "    }\n",
              "\n",
              "    [theme=dark] .colab-df-convert:hover {\n",
              "      background-color: #434B5C;\n",
              "      box-shadow: 0px 1px 3px 1px rgba(0, 0, 0, 0.15);\n",
              "      filter: drop-shadow(0px 1px 2px rgba(0, 0, 0, 0.3));\n",
              "      fill: #FFFFFF;\n",
              "    }\n",
              "  </style>\n",
              "\n",
              "    <script>\n",
              "      const buttonEl =\n",
              "        document.querySelector('#df-d7c1a38b-663a-4be8-9098-a964130454ce button.colab-df-convert');\n",
              "      buttonEl.style.display =\n",
              "        google.colab.kernel.accessAllowed ? 'block' : 'none';\n",
              "\n",
              "      async function convertToInteractive(key) {\n",
              "        const element = document.querySelector('#df-d7c1a38b-663a-4be8-9098-a964130454ce');\n",
              "        const dataTable =\n",
              "          await google.colab.kernel.invokeFunction('convertToInteractive',\n",
              "                                                    [key], {});\n",
              "        if (!dataTable) return;\n",
              "\n",
              "        const docLinkHtml = 'Like what you see? Visit the ' +\n",
              "          '<a target=\"_blank\" href=https://colab.research.google.com/notebooks/data_table.ipynb>data table notebook</a>'\n",
              "          + ' to learn more about interactive tables.';\n",
              "        element.innerHTML = '';\n",
              "        dataTable['output_type'] = 'display_data';\n",
              "        await google.colab.output.renderOutput(dataTable, element);\n",
              "        const docLink = document.createElement('div');\n",
              "        docLink.innerHTML = docLinkHtml;\n",
              "        element.appendChild(docLink);\n",
              "      }\n",
              "    </script>\n",
              "  </div>\n",
              "\n",
              "\n",
              "    <div id=\"df-8a92e8cb-c9e7-400f-9ae1-a36a2972fbfe\">\n",
              "      <button class=\"colab-df-quickchart\" onclick=\"quickchart('df-8a92e8cb-c9e7-400f-9ae1-a36a2972fbfe')\"\n",
              "                title=\"Suggest charts\"\n",
              "                style=\"display:none;\">\n",
              "\n",
              "<svg xmlns=\"http://www.w3.org/2000/svg\" height=\"24px\"viewBox=\"0 0 24 24\"\n",
              "     width=\"24px\">\n",
              "    <g>\n",
              "        <path d=\"M19 3H5c-1.1 0-2 .9-2 2v14c0 1.1.9 2 2 2h14c1.1 0 2-.9 2-2V5c0-1.1-.9-2-2-2zM9 17H7v-7h2v7zm4 0h-2V7h2v10zm4 0h-2v-4h2v4z\"/>\n",
              "    </g>\n",
              "</svg>\n",
              "      </button>\n",
              "\n",
              "<style>\n",
              "  .colab-df-quickchart {\n",
              "      --bg-color: #E8F0FE;\n",
              "      --fill-color: #1967D2;\n",
              "      --hover-bg-color: #E2EBFA;\n",
              "      --hover-fill-color: #174EA6;\n",
              "      --disabled-fill-color: #AAA;\n",
              "      --disabled-bg-color: #DDD;\n",
              "  }\n",
              "\n",
              "  [theme=dark] .colab-df-quickchart {\n",
              "      --bg-color: #3B4455;\n",
              "      --fill-color: #D2E3FC;\n",
              "      --hover-bg-color: #434B5C;\n",
              "      --hover-fill-color: #FFFFFF;\n",
              "      --disabled-bg-color: #3B4455;\n",
              "      --disabled-fill-color: #666;\n",
              "  }\n",
              "\n",
              "  .colab-df-quickchart {\n",
              "    background-color: var(--bg-color);\n",
              "    border: none;\n",
              "    border-radius: 50%;\n",
              "    cursor: pointer;\n",
              "    display: none;\n",
              "    fill: var(--fill-color);\n",
              "    height: 32px;\n",
              "    padding: 0;\n",
              "    width: 32px;\n",
              "  }\n",
              "\n",
              "  .colab-df-quickchart:hover {\n",
              "    background-color: var(--hover-bg-color);\n",
              "    box-shadow: 0 1px 2px rgba(60, 64, 67, 0.3), 0 1px 3px 1px rgba(60, 64, 67, 0.15);\n",
              "    fill: var(--button-hover-fill-color);\n",
              "  }\n",
              "\n",
              "  .colab-df-quickchart-complete:disabled,\n",
              "  .colab-df-quickchart-complete:disabled:hover {\n",
              "    background-color: var(--disabled-bg-color);\n",
              "    fill: var(--disabled-fill-color);\n",
              "    box-shadow: none;\n",
              "  }\n",
              "\n",
              "  .colab-df-spinner {\n",
              "    border: 2px solid var(--fill-color);\n",
              "    border-color: transparent;\n",
              "    border-bottom-color: var(--fill-color);\n",
              "    animation:\n",
              "      spin 1s steps(1) infinite;\n",
              "  }\n",
              "\n",
              "  @keyframes spin {\n",
              "    0% {\n",
              "      border-color: transparent;\n",
              "      border-bottom-color: var(--fill-color);\n",
              "      border-left-color: var(--fill-color);\n",
              "    }\n",
              "    20% {\n",
              "      border-color: transparent;\n",
              "      border-left-color: var(--fill-color);\n",
              "      border-top-color: var(--fill-color);\n",
              "    }\n",
              "    30% {\n",
              "      border-color: transparent;\n",
              "      border-left-color: var(--fill-color);\n",
              "      border-top-color: var(--fill-color);\n",
              "      border-right-color: var(--fill-color);\n",
              "    }\n",
              "    40% {\n",
              "      border-color: transparent;\n",
              "      border-right-color: var(--fill-color);\n",
              "      border-top-color: var(--fill-color);\n",
              "    }\n",
              "    60% {\n",
              "      border-color: transparent;\n",
              "      border-right-color: var(--fill-color);\n",
              "    }\n",
              "    80% {\n",
              "      border-color: transparent;\n",
              "      border-right-color: var(--fill-color);\n",
              "      border-bottom-color: var(--fill-color);\n",
              "    }\n",
              "    90% {\n",
              "      border-color: transparent;\n",
              "      border-bottom-color: var(--fill-color);\n",
              "    }\n",
              "  }\n",
              "</style>\n",
              "\n",
              "      <script>\n",
              "        async function quickchart(key) {\n",
              "          const quickchartButtonEl =\n",
              "            document.querySelector('#' + key + ' button');\n",
              "          quickchartButtonEl.disabled = true;  // To prevent multiple clicks.\n",
              "          quickchartButtonEl.classList.add('colab-df-spinner');\n",
              "          try {\n",
              "            const charts = await google.colab.kernel.invokeFunction(\n",
              "                'suggestCharts', [key], {});\n",
              "          } catch (error) {\n",
              "            console.error('Error during call to suggestCharts:', error);\n",
              "          }\n",
              "          quickchartButtonEl.classList.remove('colab-df-spinner');\n",
              "          quickchartButtonEl.classList.add('colab-df-quickchart-complete');\n",
              "        }\n",
              "        (() => {\n",
              "          let quickchartButtonEl =\n",
              "            document.querySelector('#df-8a92e8cb-c9e7-400f-9ae1-a36a2972fbfe button');\n",
              "          quickchartButtonEl.style.display =\n",
              "            google.colab.kernel.accessAllowed ? 'block' : 'none';\n",
              "        })();\n",
              "      </script>\n",
              "    </div>\n",
              "\n",
              "  <div id=\"id_40c9b665-d9c5-436f-b8be-e83f57d6d095\">\n",
              "    <style>\n",
              "      .colab-df-generate {\n",
              "        background-color: #E8F0FE;\n",
              "        border: none;\n",
              "        border-radius: 50%;\n",
              "        cursor: pointer;\n",
              "        display: none;\n",
              "        fill: #1967D2;\n",
              "        height: 32px;\n",
              "        padding: 0 0 0 0;\n",
              "        width: 32px;\n",
              "      }\n",
              "\n",
              "      .colab-df-generate:hover {\n",
              "        background-color: #E2EBFA;\n",
              "        box-shadow: 0px 1px 2px rgba(60, 64, 67, 0.3), 0px 1px 3px 1px rgba(60, 64, 67, 0.15);\n",
              "        fill: #174EA6;\n",
              "      }\n",
              "\n",
              "      [theme=dark] .colab-df-generate {\n",
              "        background-color: #3B4455;\n",
              "        fill: #D2E3FC;\n",
              "      }\n",
              "\n",
              "      [theme=dark] .colab-df-generate:hover {\n",
              "        background-color: #434B5C;\n",
              "        box-shadow: 0px 1px 3px 1px rgba(0, 0, 0, 0.15);\n",
              "        filter: drop-shadow(0px 1px 2px rgba(0, 0, 0, 0.3));\n",
              "        fill: #FFFFFF;\n",
              "      }\n",
              "    </style>\n",
              "    <button class=\"colab-df-generate\" onclick=\"generateWithVariable('answer_length_stats')\"\n",
              "            title=\"Generate code using this dataframe.\"\n",
              "            style=\"display:none;\">\n",
              "\n",
              "  <svg xmlns=\"http://www.w3.org/2000/svg\" height=\"24px\"viewBox=\"0 0 24 24\"\n",
              "       width=\"24px\">\n",
              "    <path d=\"M7,19H8.4L18.45,9,17,7.55,7,17.6ZM5,21V16.75L18.45,3.32a2,2,0,0,1,2.83,0l1.4,1.43a1.91,1.91,0,0,1,.58,1.4,1.91,1.91,0,0,1-.58,1.4L9.25,21ZM18.45,9,17,7.55Zm-12,3A5.31,5.31,0,0,0,4.9,8.1,5.31,5.31,0,0,0,1,6.5,5.31,5.31,0,0,0,4.9,4.9,5.31,5.31,0,0,0,6.5,1,5.31,5.31,0,0,0,8.1,4.9,5.31,5.31,0,0,0,12,6.5,5.46,5.46,0,0,0,6.5,12Z\"/>\n",
              "  </svg>\n",
              "    </button>\n",
              "    <script>\n",
              "      (() => {\n",
              "      const buttonEl =\n",
              "        document.querySelector('#id_40c9b665-d9c5-436f-b8be-e83f57d6d095 button.colab-df-generate');\n",
              "      buttonEl.style.display =\n",
              "        google.colab.kernel.accessAllowed ? 'block' : 'none';\n",
              "\n",
              "      buttonEl.onclick = () => {\n",
              "        google.colab.notebook.generateWithVariable('answer_length_stats');\n",
              "      }\n",
              "      })();\n",
              "    </script>\n",
              "  </div>\n",
              "\n",
              "    </div>\n",
              "  </div>\n"
            ],
            "text/plain": [
              "       answer_char_lenght  answer_word_count\n",
              "count          647.000000         647.000000\n",
              "mean          2084.395672         330.584235\n",
              "std           2736.381687         418.234941\n",
              "min             87.000000          10.000000\n",
              "25%            458.500000          75.000000\n",
              "50%           1066.000000         171.000000\n",
              "75%           2598.000000         423.500000\n",
              "max          29046.000000        4281.000000"
            ]
          },
          "execution_count": 13,
          "metadata": {},
          "output_type": "execute_result"
        }
      ],
      "source": [
        "df[\"answer_char_lenght\"] = df[\"answer\"].apply(lambda x: len(x))\n",
        "df[\"answer_word_count\"] = df[\"answer\"].apply(lambda x: len(x.split()))\n",
        "\n",
        "answer_length_stats = df[[\"answer_char_lenght\",\"answer_word_count\"]].describe()\n",
        "answer_length_stats"
      ]
    },
    {
      "cell_type": "markdown",
      "metadata": {
        "id": "Ed7pGyb_OXp5"
      },
      "source": [
        "According to our statistics, the length of the response texts varies considerably. On average, responses are around 330 words and 2084 characters. However, while the shortest response is 10 words, the longest can be up to 4281 words. This wide range reveals the varying levels of detail in the responses in the dataset, and some responses are quite comprehensive.\n",
        "\n",
        "**Preference for Word-Based Token Generation Over Character-Based Token Generation**\n",
        "\n",
        "Considering one of the project's goals and analysis questions: ``\"Would it be more useful to generate one character or word at a time?\"``, these text length statistics provide us with an important clue. The fact that the average word count (330) of the responses is much lower than the character count (2084) suggests that a word-based approach would be more efficient.\n",
        "\n",
        "Word-based token generation generally conveys more semantic meaning than character-based token generation and helps the model better understand the context of the text. Furthermore, word-based tokenization, especially in longer texts, requires significantly fewer tokens than character-based tokenization. This speeds up model training and enables more efficient use of computational resources.\n",
        "\n",
        "For these reasons, considering the average and maximum lengths of the response texts, word or word fragment-based token generation would be a more useful and effective method than character-based token generation, as it better captures semantic integrity and reduces processing overhead."
      ]
    },
    {
      "cell_type": "code",
      "execution_count": null,
      "metadata": {
        "colab": {
          "base_uri": "https://localhost:8080/",
          "height": 420
        },
        "id": "FHnYkxRYdwsA",
        "outputId": "074c3bd5-9b60-436f-eb0e-4900c5563839"
      },
      "outputs": [
        {
          "data": {
            "image/png": "[encoded data removed]",
            "text/plain": [
              "<Figure size 1600x400 with 1 Axes>"
            ]
          },
          "metadata": {},
          "output_type": "display_data"
        }
      ],
      "source": [
        "# Visualize the distribution of word counts\n",
        "plt.figure(figsize=(16, 4))\n",
        "plt.subplot(1, 2, 1)\n",
        "sns.histplot(df['answer_word_count'], kde=True, color='skyblue')\n",
        "plt.title('Distribution of Answer Word Counts', fontsize=14)\n",
        "plt.xlabel('Number of Words', fontsize=12)\n",
        "plt.ylabel('Frequency', fontsize=12)\n",
        "plt.axvline(x=answer_length_stats['answer_word_count']['mean'],\n",
        "            color='red', linestyle='--', label=f\"Mean: {answer_length_stats['answer_word_count']['mean']:.1f}\")\n",
        "plt.legend()\n",
        "plt.show()"
      ]
    },
    {
      "cell_type": "markdown",
      "metadata": {
        "id": "LW606gpUb_Ll"
      },
      "source": [
        "The histogram shows that the distribution of word counts in the responses is skewed to the right. This indicates that most responses are short or medium in length, but there are a few very long responses. The fact that the mean (330 words) is to the right of the peak further emphasizes this skew and the impact of long responses. We might consider dropping texts with notably low or high word counts (outliers)."
      ]
    },
    {
      "cell_type": "markdown",
      "metadata": {
        "id": "LmYiEvFxucfg"
      },
      "source": [
        "---"
      ]
    },
    {
      "cell_type": "markdown",
      "metadata": {
        "id": "ZTAarQILcquh"
      },
      "source": [
        "## Text Cleaning and Pre-Processing\n",
        "\n",
        "Next, we'll need to clean and pre-process the texts in the answer column and the target labels in the focus_group column.\n"
      ]
    },
    {
      "cell_type": "markdown",
      "metadata": {
        "id": "ZIqcBMshdRRo"
      },
      "source": [
        "**Encode Target Focus Groups**"
      ]
    },
    {
      "cell_type": "code",
      "execution_count": null,
      "metadata": {
        "colab": {
          "base_uri": "https://localhost:8080/",
          "height": 660
        },
        "id": "8TPxSaZ2PRm6",
        "outputId": "dc531fbe-4524-463e-aab7-352c3df5579d"
      },
      "outputs": [
        {
          "data": {
            "application/vnd.google.colaboratory.intrinsic+json": {
              "summary": "{\n  \"name\": \"df\",\n  \"rows\": 647,\n  \"fields\": [\n    {\n      \"column\": \"question\",\n      \"properties\": {\n        \"dtype\": \"category\",\n        \"num_unique_values\": 185,\n        \"samples\": [\n          \"What is (are) Prostate Cancer ?\",\n          \"what research (or clinical trials) is being done for Kidney Disease ?\",\n          \"What are the stages of Breast Cancer ?\"\n        ],\n        \"semantic_type\": \"\",\n        \"description\": \"\"\n      }\n    },\n    {\n      \"column\": \"answer\",\n      \"properties\": {\n        \"dtype\": \"string\",\n        \"num_unique_values\": 624,\n        \"samples\": [\n          \"In deep cleaning, the dentist, periodontist, or dental hygienist removes the plaque through a method called scaling and root planing. Scaling means scraping off the tartar from above and below the gum line. Root planing gets rid of rough spots on the tooth root where the germs gather, and helps remove bacteria that contribute to the disease.\",\n          \"A family history of breast cancer and other factors increase the risk of breast cancer.\\n                    Anything that increases your chance of getting a disease is called a risk factor. Having a risk factor does not mean that you will get cancer; not having risk factors doesn't mean that you will not get cancer. Talk to your doctor if you think you may be at risk for breast cancer.    Risk factors for breast cancer include the following:            - A personal history of invasive breast cancer, ductal carcinoma in situ (DCIS), or lobular carcinoma in situ (LCIS).     - A personal history of benign (noncancer) breast disease.     - A family history of breast cancer in a first-degree relative (mother, daughter, or sister).     - Inherited changes in the  BRCA1  or  BRCA2  genes or in other genes that increase the risk of breast cancer.     - Breast tissue that is dense on a mammogram.     -  Exposure of breast tissue to estrogen made by the body. This may be caused by:                  -  Menstruating at an early age.       -  Older age at first birth or never having given birth.       - Starting menopause at a later age.                - Taking hormones such as estrogen combined with progestin for symptoms of menopause.     - Treatment with radiation therapy to the breast/chest.     - Drinking alcohol.     -  Obesity.           Older age is the main risk factor for most cancers. The chance of getting cancer increases as you get older.      NCI's Breast Cancer Risk Assessment Tool uses a woman's risk factors to estimate her risk for breast cancer during the next five years and up to age 90. This online tool is meant to be used by a health care provider. For more information on breast cancer risk, call 1-800-4-CANCER.\",\n          \"Clinical trials are research studies on people to find out whether a new drug or treatment is both safe and effective. New therapies are tested on people only after laboratory and animal studies show promising results. The Food and Drug Administration sets strict rules to make sure that people who agree to be in the studies are treated as safely as possible. Clinical trials are taking place in many parts of the country. Information about clinical trials can be found at http://www.cancer.gov/clinicaltrials on the website of the National Cancer Institute (NCI). Check NCI's list of cancer clinical trials for breast cancer prevention trials that are now accepting patients.\"\n        ],\n        \"semantic_type\": \"\",\n        \"description\": \"\"\n      }\n    },\n    {\n      \"column\": \"source\",\n      \"properties\": {\n        \"dtype\": \"category\",\n        \"num_unique_values\": 7,\n        \"samples\": [\n          \"NIHSeniorHealth\",\n          \"CancerGov\",\n          \"NINDS\"\n        ],\n        \"semantic_type\": \"\",\n        \"description\": \"\"\n      }\n    },\n    {\n      \"column\": \"focus_area\",\n      \"properties\": {\n        \"dtype\": \"category\",\n        \"num_unique_values\": 25,\n        \"samples\": [\n          \"Age-related Macular Degeneration\",\n          \"Psoriasis\",\n          \"High Blood Pressure\"\n        ],\n        \"semantic_type\": \"\",\n        \"description\": \"\"\n      }\n    },\n    {\n      \"column\": \"focus_group\",\n      \"properties\": {\n        \"dtype\": \"number\",\n        \"std\": 1,\n        \"min\": 0,\n        \"max\": 4,\n        \"num_unique_values\": 5,\n        \"samples\": [\n          3,\n          4,\n          0\n        ],\n        \"semantic_type\": \"\",\n        \"description\": \"\"\n      }\n    },\n    {\n      \"column\": \"answer_char_lenght\",\n      \"properties\": {\n        \"dtype\": \"number\",\n        \"std\": 2736,\n        \"min\": 87,\n        \"max\": 29046,\n        \"num_unique_values\": 562,\n        \"samples\": [\n          986,\n          2656,\n          2517\n        ],\n        \"semantic_type\": \"\",\n        \"description\": \"\"\n      }\n    },\n    {\n      \"column\": \"answer_word_count\",\n      \"properties\": {\n        \"dtype\": \"number\",\n        \"std\": 418,\n        \"min\": 10,\n        \"max\": 4281,\n        \"num_unique_values\": 376,\n        \"samples\": [\n          594,\n          1988,\n          348\n        ],\n        \"semantic_type\": \"\",\n        \"description\": \"\"\n      }\n    }\n  ]\n}",
              "type": "dataframe",
              "variable_name": "df"
            },
            "text/html": [
              "\n",
              "  <div id=\"df-12dd3ab1-9147-4b04-a9c1-6b7bc81ab196\" class=\"colab-df-container\">\n",
              "    <div>\n",
              "<style scoped>\n",
              "    .dataframe tbody tr th:only-of-type {\n",
              "        vertical-align: middle;\n",
              "    }\n",
              "\n",
              "    .dataframe tbody tr th {\n",
              "        vertical-align: top;\n",
              "    }\n",
              "\n",
              "    .dataframe thead th {\n",
              "        text-align: right;\n",
              "    }\n",
              "</style>\n",
              "<table border=\"1\" class=\"dataframe\">\n",
              "  <thead>\n",
              "    <tr style=\"text-align: right;\">\n",
              "      <th></th>\n",
              "      <th>question</th>\n",
              "      <th>answer</th>\n",
              "      <th>source</th>\n",
              "      <th>focus_area</th>\n",
              "      <th>focus_group</th>\n",
              "      <th>answer_char_lenght</th>\n",
              "      <th>answer_word_count</th>\n",
              "    </tr>\n",
              "  </thead>\n",
              "  <tbody>\n",
              "    <tr>\n",
              "      <th>14</th>\n",
              "      <td>What is (are) High Blood Pressure ?</td>\n",
              "      <td>High blood pressure is a common disease in whi...</td>\n",
              "      <td>NIHSeniorHealth</td>\n",
              "      <td>High Blood Pressure</td>\n",
              "      <td>2</td>\n",
              "      <td>5586</td>\n",
              "      <td>940</td>\n",
              "    </tr>\n",
              "    <tr>\n",
              "      <th>15</th>\n",
              "      <td>What causes High Blood Pressure ?</td>\n",
              "      <td>Changes in Body Functions Researchers continue...</td>\n",
              "      <td>NIHSeniorHealth</td>\n",
              "      <td>High Blood Pressure</td>\n",
              "      <td>2</td>\n",
              "      <td>3455</td>\n",
              "      <td>498</td>\n",
              "    </tr>\n",
              "    <tr>\n",
              "      <th>16</th>\n",
              "      <td>Who is at risk for High Blood Pressure? ?</td>\n",
              "      <td>Not a Normal Part of Aging Nearly 1 in 3 Ameri...</td>\n",
              "      <td>NIHSeniorHealth</td>\n",
              "      <td>High Blood Pressure</td>\n",
              "      <td>2</td>\n",
              "      <td>2421</td>\n",
              "      <td>404</td>\n",
              "    </tr>\n",
              "    <tr>\n",
              "      <th>17</th>\n",
              "      <td>How to prevent High Blood Pressure ?</td>\n",
              "      <td>Steps You Can Take You can take steps to preve...</td>\n",
              "      <td>NIHSeniorHealth</td>\n",
              "      <td>High Blood Pressure</td>\n",
              "      <td>2</td>\n",
              "      <td>6606</td>\n",
              "      <td>1158</td>\n",
              "    </tr>\n",
              "    <tr>\n",
              "      <th>18</th>\n",
              "      <td>What are the symptoms of High Blood Pressure ?</td>\n",
              "      <td>High blood pressure is often called the \"silen...</td>\n",
              "      <td>NIHSeniorHealth</td>\n",
              "      <td>High Blood Pressure</td>\n",
              "      <td>2</td>\n",
              "      <td>8183</td>\n",
              "      <td>1384</td>\n",
              "    </tr>\n",
              "  </tbody>\n",
              "</table>\n",
              "</div>\n",
              "    <div class=\"colab-df-buttons\">\n",
              "\n",
              "  <div class=\"colab-df-container\">\n",
              "    <button class=\"colab-df-convert\" onclick=\"convertToInteractive('df-12dd3ab1-9147-4b04-a9c1-6b7bc81ab196')\"\n",
              "            title=\"Convert this dataframe to an interactive table.\"\n",
              "            style=\"display:none;\">\n",
              "\n",
              "  <svg xmlns=\"http://www.w3.org/2000/svg\" height=\"24px\" viewBox=\"0 -960 960 960\">\n",
              "    <path d=\"M120-120v-720h720v720H120Zm60-500h600v-160H180v160Zm220 220h160v-160H400v160Zm0 220h160v-160H400v160ZM180-400h160v-160H180v160Zm440 0h160v-160H620v160ZM180-180h160v-160H180v160Zm440 0h160v-160H620v160Z\"/>\n",
              "  </svg>\n",
              "    </button>\n",
              "\n",
              "  <style>\n",
              "    .colab-df-container {\n",
              "      display:flex;\n",
              "      gap: 12px;\n",
              "    }\n",
              "\n",
              "    .colab-df-convert {\n",
              "      background-color: #E8F0FE;\n",
              "      border: none;\n",
              "      border-radius: 50%;\n",
              "      cursor: pointer;\n",
              "      display: none;\n",
              "      fill: #1967D2;\n",
              "      height: 32px;\n",
              "      padding: 0 0 0 0;\n",
              "      width: 32px;\n",
              "    }\n",
              "\n",
              "    .colab-df-convert:hover {\n",
              "      background-color: #E2EBFA;\n",
              "      box-shadow: 0px 1px 2px rgba(60, 64, 67, 0.3), 0px 1px 3px 1px rgba(60, 64, 67, 0.15);\n",
              "      fill: #174EA6;\n",
              "    }\n",
              "\n",
              "    .colab-df-buttons div {\n",
              "      margin-bottom: 4px;\n",
              "    }\n",
              "\n",
              "    [theme=dark] .colab-df-convert {\n",
              "      background-color: #3B4455;\n",
              "      fill: #D2E3FC;\n",
              "    }\n",
              "\n",
              "    [theme=dark] .colab-df-convert:hover {\n",
              "      background-color: #434B5C;\n",
              "      box-shadow: 0px 1px 3px 1px rgba(0, 0, 0, 0.15);\n",
              "      filter: drop-shadow(0px 1px 2px rgba(0, 0, 0, 0.3));\n",
              "      fill: #FFFFFF;\n",
              "    }\n",
              "  </style>\n",
              "\n",
              "    <script>\n",
              "      const buttonEl =\n",
              "        document.querySelector('#df-12dd3ab1-9147-4b04-a9c1-6b7bc81ab196 button.colab-df-convert');\n",
              "      buttonEl.style.display =\n",
              "        google.colab.kernel.accessAllowed ? 'block' : 'none';\n",
              "\n",
              "      async function convertToInteractive(key) {\n",
              "        const element = document.querySelector('#df-12dd3ab1-9147-4b04-a9c1-6b7bc81ab196');\n",
              "        const dataTable =\n",
              "          await google.colab.kernel.invokeFunction('convertToInteractive',\n",
              "                                                    [key], {});\n",
              "        if (!dataTable) return;\n",
              "\n",
              "        const docLinkHtml = 'Like what you see? Visit the ' +\n",
              "          '<a target=\"_blank\" href=https://colab.research.google.com/notebooks/data_table.ipynb>data table notebook</a>'\n",
              "          + ' to learn more about interactive tables.';\n",
              "        element.innerHTML = '';\n",
              "        dataTable['output_type'] = 'display_data';\n",
              "        await google.colab.output.renderOutput(dataTable, element);\n",
              "        const docLink = document.createElement('div');\n",
              "        docLink.innerHTML = docLinkHtml;\n",
              "        element.appendChild(docLink);\n",
              "      }\n",
              "    </script>\n",
              "  </div>\n",
              "\n",
              "\n",
              "    <div id=\"df-fdadef5a-4014-440f-b63f-bb3ecf20defb\">\n",
              "      <button class=\"colab-df-quickchart\" onclick=\"quickchart('df-fdadef5a-4014-440f-b63f-bb3ecf20defb')\"\n",
              "                title=\"Suggest charts\"\n",
              "                style=\"display:none;\">\n",
              "\n",
              "<svg xmlns=\"http://www.w3.org/2000/svg\" height=\"24px\"viewBox=\"0 0 24 24\"\n",
              "     width=\"24px\">\n",
              "    <g>\n",
              "        <path d=\"M19 3H5c-1.1 0-2 .9-2 2v14c0 1.1.9 2 2 2h14c1.1 0 2-.9 2-2V5c0-1.1-.9-2-2-2zM9 17H7v-7h2v7zm4 0h-2V7h2v10zm4 0h-2v-4h2v4z\"/>\n",
              "    </g>\n",
              "</svg>\n",
              "      </button>\n",
              "\n",
              "<style>\n",
              "  .colab-df-quickchart {\n",
              "      --bg-color: #E8F0FE;\n",
              "      --fill-color: #1967D2;\n",
              "      --hover-bg-color: #E2EBFA;\n",
              "      --hover-fill-color: #174EA6;\n",
              "      --disabled-fill-color: #AAA;\n",
              "      --disabled-bg-color: #DDD;\n",
              "  }\n",
              "\n",
              "  [theme=dark] .colab-df-quickchart {\n",
              "      --bg-color: #3B4455;\n",
              "      --fill-color: #D2E3FC;\n",
              "      --hover-bg-color: #434B5C;\n",
              "      --hover-fill-color: #FFFFFF;\n",
              "      --disabled-bg-color: #3B4455;\n",
              "      --disabled-fill-color: #666;\n",
              "  }\n",
              "\n",
              "  .colab-df-quickchart {\n",
              "    background-color: var(--bg-color);\n",
              "    border: none;\n",
              "    border-radius: 50%;\n",
              "    cursor: pointer;\n",
              "    display: none;\n",
              "    fill: var(--fill-color);\n",
              "    height: 32px;\n",
              "    padding: 0;\n",
              "    width: 32px;\n",
              "  }\n",
              "\n",
              "  .colab-df-quickchart:hover {\n",
              "    background-color: var(--hover-bg-color);\n",
              "    box-shadow: 0 1px 2px rgba(60, 64, 67, 0.3), 0 1px 3px 1px rgba(60, 64, 67, 0.15);\n",
              "    fill: var(--button-hover-fill-color);\n",
              "  }\n",
              "\n",
              "  .colab-df-quickchart-complete:disabled,\n",
              "  .colab-df-quickchart-complete:disabled:hover {\n",
              "    background-color: var(--disabled-bg-color);\n",
              "    fill: var(--disabled-fill-color);\n",
              "    box-shadow: none;\n",
              "  }\n",
              "\n",
              "  .colab-df-spinner {\n",
              "    border: 2px solid var(--fill-color);\n",
              "    border-color: transparent;\n",
              "    border-bottom-color: var(--fill-color);\n",
              "    animation:\n",
              "      spin 1s steps(1) infinite;\n",
              "  }\n",
              "\n",
              "  @keyframes spin {\n",
              "    0% {\n",
              "      border-color: transparent;\n",
              "      border-bottom-color: var(--fill-color);\n",
              "      border-left-color: var(--fill-color);\n",
              "    }\n",
              "    20% {\n",
              "      border-color: transparent;\n",
              "      border-left-color: var(--fill-color);\n",
              "      border-top-color: var(--fill-color);\n",
              "    }\n",
              "    30% {\n",
              "      border-color: transparent;\n",
              "      border-left-color: var(--fill-color);\n",
              "      border-top-color: var(--fill-color);\n",
              "      border-right-color: var(--fill-color);\n",
              "    }\n",
              "    40% {\n",
              "      border-color: transparent;\n",
              "      border-right-color: var(--fill-color);\n",
              "      border-top-color: var(--fill-color);\n",
              "    }\n",
              "    60% {\n",
              "      border-color: transparent;\n",
              "      border-right-color: var(--fill-color);\n",
              "    }\n",
              "    80% {\n",
              "      border-color: transparent;\n",
              "      border-right-color: var(--fill-color);\n",
              "      border-bottom-color: var(--fill-color);\n",
              "    }\n",
              "    90% {\n",
              "      border-color: transparent;\n",
              "      border-bottom-color: var(--fill-color);\n",
              "    }\n",
              "  }\n",
              "</style>\n",
              "\n",
              "      <script>\n",
              "        async function quickchart(key) {\n",
              "          const quickchartButtonEl =\n",
              "            document.querySelector('#' + key + ' button');\n",
              "          quickchartButtonEl.disabled = true;  // To prevent multiple clicks.\n",
              "          quickchartButtonEl.classList.add('colab-df-spinner');\n",
              "          try {\n",
              "            const charts = await google.colab.kernel.invokeFunction(\n",
              "                'suggestCharts', [key], {});\n",
              "          } catch (error) {\n",
              "            console.error('Error during call to suggestCharts:', error);\n",
              "          }\n",
              "          quickchartButtonEl.classList.remove('colab-df-spinner');\n",
              "          quickchartButtonEl.classList.add('colab-df-quickchart-complete');\n",
              "        }\n",
              "        (() => {\n",
              "          let quickchartButtonEl =\n",
              "            document.querySelector('#df-fdadef5a-4014-440f-b63f-bb3ecf20defb button');\n",
              "          quickchartButtonEl.style.display =\n",
              "            google.colab.kernel.accessAllowed ? 'block' : 'none';\n",
              "        })();\n",
              "      </script>\n",
              "    </div>\n",
              "\n",
              "    </div>\n",
              "  </div>\n"
            ],
            "text/plain": [
              "                                          question  \\\n",
              "14             What is (are) High Blood Pressure ?   \n",
              "15               What causes High Blood Pressure ?   \n",
              "16       Who is at risk for High Blood Pressure? ?   \n",
              "17            How to prevent High Blood Pressure ?   \n",
              "18  What are the symptoms of High Blood Pressure ?   \n",
              "\n",
              "                                               answer           source  \\\n",
              "14  High blood pressure is a common disease in whi...  NIHSeniorHealth   \n",
              "15  Changes in Body Functions Researchers continue...  NIHSeniorHealth   \n",
              "16  Not a Normal Part of Aging Nearly 1 in 3 Ameri...  NIHSeniorHealth   \n",
              "17  Steps You Can Take You can take steps to preve...  NIHSeniorHealth   \n",
              "18  High blood pressure is often called the \"silen...  NIHSeniorHealth   \n",
              "\n",
              "             focus_area  focus_group  answer_char_lenght  answer_word_count  \n",
              "14  High Blood Pressure            2                5586                940  \n",
              "15  High Blood Pressure            2                3455                498  \n",
              "16  High Blood Pressure            2                2421                404  \n",
              "17  High Blood Pressure            2                6606               1158  \n",
              "18  High Blood Pressure            2                8183               1384  "
            ]
          },
          "execution_count": 15,
          "metadata": {},
          "output_type": "execute_result"
        }
      ],
      "source": [
        "focus_map = {\"Neurological & Cognitive Disorders\":0,\n",
        "             \"Cancers\":1,\n",
        "             \"Cardiovascular Diseases\":2,\n",
        "             \"Metabolic & Endocrine Disorders\":3,\n",
        "             \"Other Age-Related & Immune Disorders\":4}\n",
        "\n",
        "\n",
        "df[\"focus_group\"] = df[\"focus_group\"].map(focus_map)\n",
        "\n",
        "df.head()"
      ]
    },
    {
      "cell_type": "markdown",
      "metadata": {
        "id": "y8KLatoTd5Ag"
      },
      "source": [
        "**Drop Duplicate Rows**\n",
        "\n",
        "We've noticed that many of the text in the answer column are duplicates (or fairly similar), which is common among medical texts.\n",
        "\n",
        "We'll need to drop duplicates, otherwise:\n",
        "\n",
        "- the model will overfit to over-represented texts\n",
        "- the model will have more trouble generalizing to unseen texts\n",
        "- model training will take longer"
      ]
    },
    {
      "cell_type": "code",
      "execution_count": null,
      "metadata": {
        "colab": {
          "base_uri": "https://localhost:8080/"
        },
        "id": "kPDZuUIadClG",
        "outputId": "ef397f8f-4ead-4fe8-86bd-a7817085e70f"
      },
      "outputs": [
        {
          "data": {
            "text/plain": [
              "(624, 7)"
            ]
          },
          "execution_count": 16,
          "metadata": {},
          "output_type": "execute_result"
        }
      ],
      "source": [
        "df.drop_duplicates(subset=\"answer\",inplace=True)\n",
        "df.shape"
      ]
    },
    {
      "cell_type": "markdown",
      "metadata": {
        "id": "n_lM1WzVeebe"
      },
      "source": [
        "**Split the Data into Training and Testing Sets**\n",
        "\n",
        "Let's split the dataset into 80% training and 20% testing.\n",
        "\n",
        "Since our dataset is fairly small (considering that we only used the top 25 most occurring focus areas), we'll need to stratify the distribution of focus groups to ensure fair representation in the training and testing sets."
      ]
    },
    {
      "cell_type": "code",
      "execution_count": null,
      "metadata": {
        "colab": {
          "base_uri": "https://localhost:8080/"
        },
        "id": "bZCv9c2EeHKk",
        "outputId": "2f528ca6-9056-4236-89f9-7699926c8361"
      },
      "outputs": [
        {
          "name": "stdout",
          "output_type": "stream",
          "text": [
            "Training set distribution: focus_group\n",
            "1    0.334669\n",
            "2    0.234469\n",
            "4    0.186373\n",
            "3    0.130261\n",
            "0    0.114228\n",
            "Name: proportion, dtype: float64\n",
            "Testing set distribution: focus_group\n",
            "1    0.336\n",
            "2    0.232\n",
            "4    0.184\n",
            "3    0.136\n",
            "0    0.112\n",
            "Name: proportion, dtype: float64\n"
          ]
        }
      ],
      "source": [
        "train_df, test_df = train_test_split(df, test_size=0.2, random_state=42, stratify=df[\"focus_group\"])\n",
        "\n",
        "print(\"Training set distribution:\", train_df['focus_group'].value_counts(1))\n",
        "print(\"Testing set distribution:\", test_df['focus_group'].value_counts(1))"
      ]
    },
    {
      "cell_type": "markdown",
      "metadata": {
        "id": "GoyJbUcufCBZ"
      },
      "source": [
        "**Create Training Corpus**\n",
        "\n",
        "Next, let's create the training corpus by converting each text sequence and focus group labels to lists:\n",
        "\n",
        "- ``train_texts`` will contain each answer text separated by commas\n",
        "- ``train_labels`` will contain each focus group label separated by commas"
      ]
    },
    {
      "cell_type": "code",
      "execution_count": null,
      "metadata": {
        "colab": {
          "base_uri": "https://localhost:8080/"
        },
        "id": "skuhYOdPevG_",
        "outputId": "eec60e56-bc3e-49e1-aba9-6b54cb83f067"
      },
      "outputs": [
        {
          "name": "stdout",
          "output_type": "stream",
          "text": [
            "[\"Diabetic retinopathy often has no early warning signs. Don't wait for symptoms. Be sure to have a comprehensive dilated eye exam at least once a year.  Learn more about a comprehensive dilated eye exam.\", 'Breast cancer affects one in eight women during their lives. Breast cancer kills more women in the United States than any cancer except lung cancer. No one knows why some women get breast cancer, but there are a number of risk factors. Risks that you cannot change include       - Age - the chance of getting breast cancer rises as a woman gets older     - Genes - there are two genes, BRCA1 and BRCA2, that greatly increase the risk. Women who have family members with breast or ovarian cancer may wish to be tested.     - Personal factors - beginning periods before age 12 or going through menopause after age 55       Other risks include being overweight, using hormone replacement therapy (also called menopausal hormone therapy), taking birth control pills, drinking alcohol, not having children or having your first child after age 35 or having dense breasts.    Symptoms of breast cancer may include a lump in the breast, a change in size or shape of the breast or discharge from a nipple. Breast self-exam and mammography can help find breast cancer early when it is most treatable. Treatment may consist of radiation, lumpectomy, mastectomy, chemotherapy and hormone therapy.    Men can have breast cancer, too, but the number of cases is small.    NIH: National Cancer Institute']\n",
            "[3, 1]\n"
          ]
        }
      ],
      "source": [
        "train_texts = train_df[\"answer\"].tolist()\n",
        "train_labels = train_df[\"focus_group\"].tolist()\n",
        "\n",
        "# Print the first two training texts and labels\n",
        "print(train_texts[0:2])\n",
        "print(train_labels[0:2])"
      ]
    },
    {
      "cell_type": "markdown",
      "metadata": {
        "id": "s7CTrQy0fkGR"
      },
      "source": [
        "**Remove Keywords from Training Text**\n",
        "\n",
        "One issue we might encounter is that the training text might contain the actual focus group label, which may cause data leakage. Our model could cheat by detecting keywords and memorizing the focus group label instead of actually learning the patterns and relationships within the medical text.\n",
        "\n",
        "One strategy is to remove keywords from the training text:"
      ]
    },
    {
      "cell_type": "code",
      "execution_count": null,
      "metadata": {
        "id": "ngl6OXNGfR-i"
      },
      "outputs": [],
      "source": [
        "remove_keywords = [\n",
        "    'Breast Cancer', 'Prostate Cancer', 'Skin Cancer',\n",
        "    'Colorectal Cancer', 'Lung Cancer', 'Leukemia', 'Stroke', 'Heart Failure', 'Heart Attack',\n",
        "    'High Blood Cholesterol', 'High Blood Pressure', 'Causes of Diabetes', 'Diabetes', 'Diabetic Retinopathy',\n",
        "    'Hemochromatosis', 'Kidney Disease', 'Alzheimer\\'s Disease', 'Parkinson\\'s Disease', 'Balance Problems',\n",
        "    'Shingles', 'Osteoporosis', 'Age-related Macular Degeneration',\n",
        "    'Psoriasis', 'Gum (Periodontal) Disease', 'Dry Mouth'\n",
        "]\n",
        "\n",
        "# Split all multi-word phrases into individual words\n",
        "# Ex. \"High Blood Cholesterol\" ==> \"High\", \"Blood\", \"Cholesterol\"\n",
        "words_to_remove = set()\n",
        "for phrase in remove_keywords:\n",
        "    for word in re.findall(r'\\b\\w+\\b', phrase):\n",
        "        words_to_remove.add(word.lower())  # lowercased for case-insensitive match\n",
        "\n",
        "# Create regex pattern to match any of the words\n",
        "pattern = re.compile(r'\\b(?:' + '|'.join(map(re.escape, words_to_remove)) + r')\\b', flags=re.IGNORECASE)\n",
        "\n",
        "# Remove individual words from each text\n",
        "masked_train_texts = [pattern.sub('', text) for text in train_texts]\n",
        "\n",
        "# Normalize whitespace\n",
        "masked_train_texts = [re.sub(r'\\s+', ' ', text).strip() for text in masked_train_texts]"
      ]
    },
    {
      "cell_type": "markdown",
      "metadata": {
        "id": "Ijiwe9Xug3fM"
      },
      "source": [
        "**Tokenize the Training Text**\n",
        "\n",
        "Next, we'll tokenize each training text into word tokens."
      ]
    },
    {
      "cell_type": "code",
      "execution_count": null,
      "metadata": {
        "colab": {
          "base_uri": "https://localhost:8080/"
        },
        "id": "n_TUWa4YgutN",
        "outputId": "db3f5c36-d5af-4058-d1c3-402d68402718"
      },
      "outputs": [
        {
          "name": "stdout",
          "output_type": "stream",
          "text": [
            "['often', 'has', 'no', 'early', 'warning', 'signs', 'don', 't', 'wait', 'for', 'symptoms', 'be', 'sure', 'to', 'have', 'a', 'comprehensive', 'dilated', 'eye', 'exam', 'at', 'least', 'once', 'a', 'year', 'learn', 'more', 'about', 'a', 'comprehensive', 'dilated', 'eye', 'exam']\n"
          ]
        }
      ],
      "source": [
        "def tokenize(text):\n",
        "  tokenized_text = re.findall(r'\\b\\w+\\b',text.lower())\n",
        "  return tokenized_text\n",
        "\n",
        "tokenized_training_corpus = [tokenize(text) for text in masked_train_texts]\n",
        "\n",
        "# Print the first tokenized text sequence\n",
        "print(tokenized_training_corpus[0])"
      ]
    },
    {
      "cell_type": "markdown",
      "metadata": {
        "id": "CGm3ivYvhcqZ"
      },
      "source": [
        "**Count the Number of Occurrences for each Word Token**"
      ]
    },
    {
      "cell_type": "code",
      "execution_count": null,
      "metadata": {
        "id": "hx2TBJsPhSZ2"
      },
      "outputs": [],
      "source": [
        "combined_training_corpus = []\n",
        "for text in tokenized_training_corpus:\n",
        "  for token in text:\n",
        "    combined_training_corpus.append(token)\n",
        "\n",
        "word_freqs = Counter(combined_training_corpus)"
      ]
    },
    {
      "cell_type": "markdown",
      "metadata": {
        "id": "GF2SlpgSh7uJ"
      },
      "source": [
        "**Create the Vocabulary**\n",
        "\n",
        "We'll build the vocabulary using the top 1,000 most commonly occuring word tokens."
      ]
    },
    {
      "cell_type": "code",
      "execution_count": null,
      "metadata": {
        "colab": {
          "base_uri": "https://localhost:8080/"
        },
        "id": "MUPwGlgLh1Co",
        "outputId": "67b760c9-84b7-4658-cb2d-36dc030086ab"
      },
      "outputs": [
        {
          "name": "stdout",
          "output_type": "stream",
          "text": [
            "Top 10 most common words: [('the', 7750), ('to', 3886), ('and', 3786), ('a', 3469), ('in', 2694), ('or', 2666), ('is', 2301), ('are', 1643), ('for', 1537), ('your', 1523)]\n"
          ]
        }
      ],
      "source": [
        "MAX_VOCAB_SIZE = 1000\n",
        "most_common_words = word_freqs.most_common(MAX_VOCAB_SIZE)\n",
        "print(\"Top 10 most common words:\",most_common_words[:10])"
      ]
    },
    {
      "cell_type": "markdown",
      "metadata": {
        "id": "Z0gUDgKViY2F"
      },
      "source": [
        "Then, we'll create the vocabulary as a dictionary assigning each token a token ID based on its positional value and frequency counts.\n",
        "\n",
        "We'll also create two special tokens:\n",
        "\n",
        "- ``<unk>`` with the token ID value ``0``\n",
        "- ``<pad>`` with the token ID value ``1``"
      ]
    },
    {
      "cell_type": "code",
      "execution_count": null,
      "metadata": {
        "colab": {
          "base_uri": "https://localhost:8080/"
        },
        "id": "bOEuJwFXiPYY",
        "outputId": "077d7a4b-5982-4495-9021-b46e9d3b6037"
      },
      "outputs": [
        {
          "data": {
            "text/plain": [
              "1002"
            ]
          },
          "execution_count": 23,
          "metadata": {},
          "output_type": "execute_result"
        }
      ],
      "source": [
        "vocab = {word: i+2 for i, (word, freq) in enumerate(most_common_words)}\n",
        "vocab[\"<unk>\"] = 0\n",
        "vocab[\"<pad>\"] = 1\n",
        "\n",
        "len(vocab)"
      ]
    },
    {
      "cell_type": "markdown",
      "metadata": {
        "id": "Ku7lP5BFi0SF"
      },
      "source": [
        "**Encode and Pad/Truncate the Tokenized Text**\n",
        "\n",
        "Using the vocabulary, we'll encode the text.\n",
        "\n",
        "While encoding the text, we'll also pad or truncate the text to a specified maximum sequence length value of 128 tokens.\n",
        "\n",
        "\n",
        "\n"
      ]
    },
    {
      "cell_type": "code",
      "execution_count": null,
      "metadata": {
        "id": "XHR-hhJuipdv"
      },
      "outputs": [],
      "source": [
        "def encode_text(text, vocab):\n",
        "  tokenized_text = tokenize(text)\n",
        "  encoded_text = [vocab.get(word,vocab[\"<unk>\"]) for word in tokenized_text]\n",
        "  return encoded_text\n",
        "\n",
        "def pad_or_truncate(encoded_text, max_length):\n",
        "  if len(encoded_text) > max_length:\n",
        "    return encoded_text[:max_length]\n",
        "  else:\n",
        "    return encoded_text + [vocab[\"<pad>\"]] * (max_length - len(encoded_text))"
      ]
    },
    {
      "cell_type": "code",
      "execution_count": null,
      "metadata": {
        "id": "QnyLD7yTjcit"
      },
      "outputs": [],
      "source": [
        "MAX_SEQ_LENGTH = 128\n",
        "\n",
        "padded_train_seqs = [pad_or_truncate(encode_text(text, vocab), MAX_SEQ_LENGTH) for text in train_texts]"
      ]
    },
    {
      "cell_type": "markdown",
      "metadata": {
        "id": "6rSdo6yBkPFq"
      },
      "source": [
        "**Convert to PyTorch Tensors**\n",
        "\n",
        "Next, we'll convert the encoded, tokenized text into PyTorch tensors for training."
      ]
    },
    {
      "cell_type": "code",
      "execution_count": null,
      "metadata": {
        "id": "wXU46R3hj98J"
      },
      "outputs": [],
      "source": [
        "X_train_tensor = torch.tensor(padded_train_seqs)\n",
        "y_train_tensor = torch.tensor(train_labels,dtype=torch.long)"
      ]
    },
    {
      "cell_type": "markdown",
      "metadata": {
        "id": "Vv_UcqVKkthH"
      },
      "source": [
        "We'll also organize the training tensors into training batches."
      ]
    },
    {
      "cell_type": "code",
      "execution_count": null,
      "metadata": {
        "id": "WSNaYb_MknRs"
      },
      "outputs": [],
      "source": [
        "train_dataset = TensorDataset(X_train_tensor, y_train_tensor)\n",
        "train_dataloader = DataLoader(train_dataset, batch_size=16, shuffle=True)"
      ]
    },
    {
      "cell_type": "markdown",
      "metadata": {
        "id": "TfCgqaPxk72J"
      },
      "source": [
        "**Pre-Process the Testing Set**\n",
        "\n",
        "Now we will do all the pre-processing steps for the test set we did for the training set."
      ]
    },
    {
      "cell_type": "code",
      "execution_count": null,
      "metadata": {
        "id": "yHiMOx67k2kZ"
      },
      "outputs": [],
      "source": [
        "# Convert the testing texts and labels to lists\n",
        "test_texts = test_df['answer'].tolist()\n",
        "test_labels = test_df['focus_group'].tolist()\n",
        "\n",
        "# Encode and pad/truncate the testing sequences\n",
        "padded_test_seqs = [pad_or_truncate(encode_text(seq, vocab), MAX_SEQ_LENGTH) for seq in test_texts]\n",
        "\n",
        "# Convert testing sequences to tensors\n",
        "X_tensor_test = torch.tensor(padded_test_seqs)\n",
        "y_tensor_test = torch.tensor(test_labels, dtype=torch.long)\n",
        "\n",
        "# Batch the testing set\n",
        "test_dataset = TensorDataset(X_tensor_test, y_tensor_test)\n",
        "test_loader = DataLoader(test_dataset, batch_size=8, shuffle=False)"
      ]
    },
    {
      "cell_type": "markdown",
      "metadata": {
        "id": "ydOQ9CBvuhJr"
      },
      "source": [
        "---"
      ]
    },
    {
      "cell_type": "markdown",
      "metadata": {
        "id": "Ql_acYDCmNE2"
      },
      "source": [
        "## Text Classification Models"
      ]
    },
    {
      "cell_type": "markdown",
      "metadata": {
        "id": "AmBW1El3mhDW"
      },
      "source": [
        "### Simple Neural Network\n",
        "\n",
        "The first text classification model we'll build is a simple neural network with an embedding layer that will serve as a baseline model."
      ]
    },
    {
      "cell_type": "markdown",
      "metadata": {
        "id": "Tmnean8Sml-C"
      },
      "source": [
        "**Build NN Architecture**"
      ]
    },
    {
      "cell_type": "code",
      "execution_count": null,
      "metadata": {
        "id": "u0Zt03BkldLo"
      },
      "outputs": [],
      "source": [
        "class SimpleNNWithEmbedding(nn.Module):\n",
        "  def __init__(self, vocab_size, embed_size, hidden_size, output_size):\n",
        "    super(SimpleNNWithEmbedding, self).__init__()\n",
        "    self.embedding = nn.Embedding(vocab_size, embed_size)\n",
        "    self.fc1 = nn.Linear(embed_size, hidden_size)\n",
        "    self.fc2 = nn.Linear(hidden_size,output_size)\n",
        "\n",
        "  def forward(self,x):\n",
        "    x = self.embedding(x)\n",
        "    x = torch.mean(x,dim=1)\n",
        "    x = self.fc1(x)\n",
        "    x = torch.relu(x)\n",
        "    x = self.fc2(x)\n",
        "    return x"
      ]
    },
    {
      "cell_type": "markdown",
      "metadata": {
        "id": "H9fdawq1nU2E"
      },
      "source": [
        "**Instantiate the Model**"
      ]
    },
    {
      "cell_type": "code",
      "execution_count": null,
      "metadata": {
        "colab": {
          "base_uri": "https://localhost:8080/"
        },
        "id": "MDbR0cv1nOAq",
        "outputId": "180f86b8-3b2b-4800-d59d-f5a9bb4da7fa"
      },
      "outputs": [
        {
          "name": "stdout",
          "output_type": "stream",
          "text": [
            "SimpleNNWithEmbedding(\n",
            "  (embedding): Embedding(1002, 50)\n",
            "  (fc1): Linear(in_features=50, out_features=100, bias=True)\n",
            "  (fc2): Linear(in_features=100, out_features=5, bias=True)\n",
            ")\n"
          ]
        }
      ],
      "source": [
        "vocab_size = len(vocab)\n",
        "embed_size = 50\n",
        "hidden_size = 100\n",
        "output_size = n_focus_groups\n",
        "\n",
        "text_classifier = SimpleNNWithEmbedding(vocab_size, embed_size, hidden_size, output_size)\n",
        "print(text_classifier)"
      ]
    },
    {
      "cell_type": "markdown",
      "metadata": {
        "id": "7QWRP531nyps"
      },
      "source": [
        "**Specify Loss Function and Optimizer**"
      ]
    },
    {
      "cell_type": "code",
      "execution_count": null,
      "metadata": {
        "id": "B6UjAKfDnshI"
      },
      "outputs": [],
      "source": [
        "criterion = nn.CrossEntropyLoss()\n",
        "optimizer = optim.Adam(text_classifier.parameters(), lr=0.0001)"
      ]
    },
    {
      "cell_type": "markdown",
      "metadata": {
        "id": "nCA-VVQbKn9o"
      },
      "source": [
        "**Model Training**"
      ]
    },
    {
      "cell_type": "code",
      "execution_count": null,
      "metadata": {
        "colab": {
          "base_uri": "https://localhost:8080/"
        },
        "id": "bQopr129n49-",
        "outputId": "28df4eb3-2165-4ac6-df5d-57b8adca119d"
      },
      "outputs": [
        {
          "name": "stdout",
          "output_type": "stream",
          "text": [
            "[Epoch 100/500], Average CE Loss: 1.0998785477\n",
            "[Epoch 200/500], Average CE Loss: 0.6455434198\n",
            "[Epoch 300/500], Average CE Loss: 0.3275533072\n",
            "[Epoch 400/500], Average CE Loss: 0.1499232915\n",
            "[Epoch 500/500], Average CE Loss: 0.0699038330\n"
          ]
        }
      ],
      "source": [
        "def train_model(model, train_loader, criterion, optimizer, num_epochs=5):\n",
        "    for epoch in range(num_epochs):\n",
        "        model.train()\n",
        "        epoch_loss = 0.0\n",
        "        for batch_X, batch_y in train_loader:\n",
        "            optimizer.zero_grad()\n",
        "            output = model(batch_X)\n",
        "            loss = criterion(output, batch_y)\n",
        "            loss.backward()\n",
        "            optimizer.step()\n",
        "            epoch_loss += loss.item()\n",
        "\n",
        "        avg_loss = epoch_loss / len(train_loader)\n",
        "        if (epoch + 1) % 100 == 0:\n",
        "            print(f\"[Epoch {epoch + 1}/{num_epochs}], Average CE Loss: {avg_loss:.10f}\")\n",
        "\n",
        "# Train the model\n",
        "train_model(text_classifier, train_dataloader, criterion, optimizer, num_epochs=500)"
      ]
    },
    {
      "cell_type": "markdown",
      "metadata": {
        "id": "As_AifPGoaIQ"
      },
      "source": [
        "#### **Model Evaluation**\n",
        "\n",
        "Next, we'll evaluate the simple neural network on the testing set."
      ]
    },
    {
      "cell_type": "markdown",
      "metadata": {
        "id": "8lY1GVdmokBE"
      },
      "source": [
        "**Generate Testing Set Predictions**"
      ]
    },
    {
      "cell_type": "code",
      "execution_count": null,
      "metadata": {
        "id": "-Of0_vVWoMgk"
      },
      "outputs": [],
      "source": [
        "def get_predictions_and_probabilities(model, test_loader):\n",
        "    model.eval()\n",
        "\n",
        "    all_probs = []\n",
        "    all_labels = []\n",
        "\n",
        "    with torch.no_grad():\n",
        "        for batch_X, batch_y in test_loader:\n",
        "            outputs = model(batch_X)\n",
        "            probs = F.softmax(outputs, dim=1)\n",
        "            all_probs.extend(probs.cpu().numpy())\n",
        "            predicted_labels = torch.argmax(outputs, dim=1)\n",
        "            all_labels.extend(predicted_labels.cpu().numpy())\n",
        "\n",
        "    return all_probs, all_labels\n",
        "\n",
        "# Generate predictions\n",
        "pred_probs, pred_labels = get_predictions_and_probabilities(text_classifier, test_loader)"
      ]
    },
    {
      "cell_type": "markdown",
      "metadata": {
        "id": "Vm_X33xho0f8"
      },
      "source": [
        "**Evaluate the Neural Network**"
      ]
    },
    {
      "cell_type": "code",
      "execution_count": null,
      "metadata": {
        "colab": {
          "base_uri": "https://localhost:8080/"
        },
        "id": "34_izbXSovtd",
        "outputId": "de2f2690-b929-4578-91b6-966db4a5a15f"
      },
      "outputs": [
        {
          "name": "stdout",
          "output_type": "stream",
          "text": [
            "                                      precision    recall  f1-score   support\n",
            "\n",
            "  Neurological & Cognitive Disorders       0.93      1.00      0.97        14\n",
            "                             Cancers       0.89      0.98      0.93        42\n",
            "             Cardiovascular Diseases       0.79      0.79      0.79        29\n",
            "     Metabolic & Endocrine Disorders       0.75      0.71      0.73        17\n",
            "Other Age-Related & Immune Disorders       0.95      0.78      0.86        23\n",
            "\n",
            "                            accuracy                           0.86       125\n",
            "                           macro avg       0.86      0.85      0.85       125\n",
            "                        weighted avg       0.86      0.86      0.86       125\n",
            "\n"
          ]
        }
      ],
      "source": [
        "focus_group_names = [\"Neurological & Cognitive Disorders\", \"Cancers\", \"Cardiovascular Diseases\",\n",
        "                     \"Metabolic & Endocrine Disorders\", \"Other Age-Related & Immune Disorders\"]\n",
        "\n",
        "report = classification_report(test_labels, pred_labels, target_names=focus_group_names)\n",
        "print(report)"
      ]
    },
    {
      "cell_type": "markdown",
      "metadata": {
        "id": "HAsKcwrcplAn"
      },
      "source": [
        "Nice, the simple neural network looks fairly decent, with an overall accuracy of 86%!\n",
        "\n",
        "Let's break down the performance for each class:\n",
        "\n",
        "- **Neurological & Cognitive Disorders:** Despite having the fewest examples (14) in the test set, the model performed exceptionally well. Precision was high (few false positives) and Recall was 100% (it correctly identified all texts belonging to this class). It is one of the highest-performing classes with an F1-score of 0.97.\n",
        "- **Cancers:** This is the largest class in the test set with 42 examples. The model also performed very well here. Precision was high (few false positives) and Recall was nearly perfect at 98%. It also has a strong F1-score of 0.93.\n",
        "- **Cardiovascular Diseases:** For this class with 29 examples, Precision and Recall values ​​are around 79% and balanced. The F1-score is average at 0.79. This is an area with potential for improvement.\n",
        "- **Metabolic & Endocrine Disorders:** This is one of the smaller classes in the test set with 17 examples. Precision is 75% (with some false positives), but Recall is significantly lower at 71%. This indicates that the model failed to correctly identify approximately one-third of the texts belonging to this class. The F1-score is the lowest-performing class at 0.73.\n",
        "- **Other Age-Related & Immune Disorders:** For this class with 23 examples, Precision is very high at 95% (very few false positives), but Recall is lower at 78%. The F1-score is 0.86, demonstrating good overall performance.\n",
        "\n",
        "Overall, we achieved surprisingly good results for our simple neural network baseline model. The high performance in the ``\"Neurological & Cognitive Disorders\"`` class, despite its small number of examples, is particularly noteworthy. However, the low Recall value in the ``\"Metabolic & Endocrine Disorders\"`` class suggests that the model struggles to distinguish texts on this topic. This is one of the main areas where the model could be improved. Perhaps collecting more training data for this class or applying data balancing techniques would be beneficial."
      ]
    },
    {
      "cell_type": "code",
      "execution_count": null,
      "metadata": {
        "colab": {
          "base_uri": "https://localhost:8080/",
          "height": 634
        },
        "id": "mSZdY-E8o7GK",
        "outputId": "7d4f71a9-90ec-4018-d2bc-9073d359ac1c"
      },
      "outputs": [
        {
          "data": {
            "image/png": "[encoded data removed]",
            "text/plain": [
              "<Figure size 800x600 with 2 Axes>"
            ]
          },
          "metadata": {},
          "output_type": "display_data"
        }
      ],
      "source": [
        "matrix = confusion_matrix(test_labels, pred_labels)\n",
        "\n",
        "plt.figure(figsize=(8, 6))\n",
        "sns.heatmap(matrix, annot=True, fmt='d', cmap='Blues', xticklabels=focus_group_names, yticklabels=focus_group_names)\n",
        "plt.title('Confusion Matrix for Baseline Model')\n",
        "plt.xlabel('Predicted Label')\n",
        "plt.ylabel('True Label')\n",
        "plt.xticks(rotation=30,ha=\"right\")\n",
        "plt.show()"
      ]
    },
    {
      "cell_type": "markdown",
      "metadata": {
        "id": "h-0fu16vtsiY"
      },
      "source": [
        "When we look at the confusion matrix;\n",
        "\n",
        "- **Neurological & Cognitive Disorders:** All 14 samples that actually belong to this class were correctly predicted. The model performed very well in this class.\n",
        "- **Cancers:** 41 of the 42 samples that actually belong to this class were correctly predicted. Only 1 sample was misclassified. Performance is very high for this class.\n",
        "- **Cardiovascular Diseases:** 23 of the 29 samples that actually belong to this class were correctly predicted. 3 samples were misclassified as \"Cancers\" and 3 as \"Other Age-Related & Immune Disorders.\"\n",
        "- **Metabolic & Endocrine Disorders:** 12 of the 17 samples that actually belong to this class were correctly predicted. 2 samples were misclassified as \"Cancers,\" 1 as \"Cardiovascular Diseases,\" 1 as \"Neurological & Cognitive Disorders,\" and 1 as \"Other Age-Related & Immune Disorders.\" This class is one of the classes where the model makes the most errors.\n",
        "- **Other Age-Related & Immune Disorders:** 18 of the 23 examples belonging to this class were correctly predicted. One example was misclassified as \"Cancers,\" two as \"Cardiovascular Diseases,\" and two as \"Metabolic & Endocrine Disorders.\"\n",
        "\n",
        "This matrix visually supports the results in the classification report. In the ``\"Metabolic & Endocrine Disorders\"`` class, in particular, we can clearly see that the model confused text belonging to this class with other classes. This explains the lower Recall value for that class."
      ]
    },
    {
      "cell_type": "markdown",
      "metadata": {
        "id": "Ilgt34sOuj6E"
      },
      "source": [
        "---"
      ]
    },
    {
      "cell_type": "markdown",
      "metadata": {
        "id": "HDlx9t0AtMqO"
      },
      "source": [
        "### Fine-Tune a BERT Transformer\n",
        "\n",
        "Let's now train a more advanced BERT transformer!\n",
        "\n",
        "We'll use a specialized BERT called [BiomedBERT](https://huggingface.co/microsoft/BiomedNLP-BiomedBERT-base-uncased-abstract-fulltext) from HuggingFace that has been pre-trained on medical texts like abstracts and full articles from PubMed."
      ]
    },
    {
      "cell_type": "markdown",
      "metadata": {
        "id": "gGaTMWHGA1a6"
      },
      "source": [
        "**Load a Pre-Trained BERT**"
      ]
    },
    {
      "cell_type": "code",
      "execution_count": null,
      "metadata": {
        "colab": {
          "base_uri": "https://localhost:8080/",
          "height": 269,
          "referenced_widgets": [
            "aac3ba655d144ae79651a5182467073a",
            "5ce90d3863f54bc6ad0c581c320ab6d7",
            "7d112253ae2e49ebb675cd6a11403f08",
            "8724d90c5fa14c148619221bf22642c1",
            "78820771152b47e4b31a28c140570521",
            "2e4d7b89cd674402ba090bd5d09d0563",
            "c064217b1d6e4c0788e21bbd440d2d9c",
            "e81b7fd4257c4af4b3a6e91011044cd5",
            "50b9c782140e47bd9a131d0b77194929",
            "7d2ea4cf2bb74ad78cd13a8df86a1edf",
            "bb417e89f1654c678ceba67c20838222",
            "11a9619fab3a451686eb56f20e3efbde",
            "f36e1d6eed7f413d82caba48eb345cde",
            "ce624748c7ea4fbcbabced8d8555883f",
            "2dcb238031074ec8a72f56d943c628f5",
            "2a293db79fb641c08cb4bce026c91f43",
            "00bd541d3209409a9b96b6ec3659edea",
            "0b3b85e4d091463da76ed7a2a6ad9064",
            "5a3f3d3684014822be864818cc8e13cc",
            "d7d46b4c0be24ba4b0721741c9a3d804",
            "5b127ad401774d1a80e6d35de6867f11",
            "06a55f6cca0146f6a82e934f72f0acc1",
            "fef85ba7fbbe4cb28e26b06ef2691ce4",
            "00f3a7f7631d490c8763496738627700",
            "dcc2a4d0142d45b1ac2c2cfe555ef475",
            "4db43808c61f48189c63086375cdb13a",
            "b93d7d7944ef46cd8e8d5b3c352bc722",
            "bcd7d997aa8c4f06a68b6a95e1024fa8",
            "cec6f8b2770e4b8997a8665dc2b9534b",
            "e806ca6f4c904cd0b26205eb6c874c54",
            "9b82dedc8518452a96b9f42b4539852e",
            "5a016c5d2d4440efba02a41455717e29",
            "38f61e178b4449be9b35217ddbd7c0bb",
            "3413ed2023c54d8fbd5d5f2b4883119e",
            "2e53abdce4fe41a6ba2196e2bf56e6f7",
            "b6903df5897942b1b787aadfa1b47294",
            "bb3bd37358a9427488643803f5615539",
            "4daf2a2fa12b43e19520946f4ac1b9ab",
            "66abb44d5bd045e8b167b5a3a2226ef7",
            "a73f386f14ea499792ae6b48e9e8fb7f",
            "d67b2f36a6dd43ed87cd3cf13c021be4",
            "6b5154f2440c4317a700535f46fde85f",
            "203fe76a1c604b0bab0a93f4ee669ba4",
            "ee496c18f0b04e588c0b9b3f7ce611ed"
          ]
        },
        "id": "sLXejOKFA6D0",
        "outputId": "45d30180-b59c-4a0f-d10e-c633c603b52b"
      },
      "outputs": [
        {
          "name": "stderr",
          "output_type": "stream",
          "text": [
            "/usr/local/lib/python3.12/dist-packages/huggingface_hub/utils/_auth.py:94: UserWarning: \n",
            "The secret `HF_TOKEN` does not exist in your Colab secrets.\n",
            "To authenticate with the Hugging Face Hub, create a token in your settings tab (https://huggingface.co/settings/tokens), set it as secret in your Google Colab and restart your session.\n",
            "You will be able to reuse this secret in all of your notebooks.\n",
            "Please note that authentication is recommended but still optional to access public models or datasets.\n",
            "  warnings.warn(\n"
          ]
        },
        {
          "data": {
            "application/vnd.jupyter.widget-view+json": {
              "model_id": "aac3ba655d144ae79651a5182467073a",
              "version_major": 2,
              "version_minor": 0
            },
            "text/plain": [
              "tokenizer_config.json:   0%|          | 0.00/28.0 [00:00<?, ?B/s]"
            ]
          },
          "metadata": {},
          "output_type": "display_data"
        },
        {
          "data": {
            "application/vnd.jupyter.widget-view+json": {
              "model_id": "11a9619fab3a451686eb56f20e3efbde",
              "version_major": 2,
              "version_minor": 0
            },
            "text/plain": [
              "config.json:   0%|          | 0.00/385 [00:00<?, ?B/s]"
            ]
          },
          "metadata": {},
          "output_type": "display_data"
        },
        {
          "data": {
            "application/vnd.jupyter.widget-view+json": {
              "model_id": "fef85ba7fbbe4cb28e26b06ef2691ce4",
              "version_major": 2,
              "version_minor": 0
            },
            "text/plain": [
              "vocab.txt: 0.00B [00:00, ?B/s]"
            ]
          },
          "metadata": {},
          "output_type": "display_data"
        },
        {
          "data": {
            "application/vnd.jupyter.widget-view+json": {
              "model_id": "3413ed2023c54d8fbd5d5f2b4883119e",
              "version_major": 2,
              "version_minor": 0
            },
            "text/plain": [
              "pytorch_model.bin:   0%|          | 0.00/440M [00:00<?, ?B/s]"
            ]
          },
          "metadata": {},
          "output_type": "display_data"
        }
      ],
      "source": [
        "# Load BiomedBERT model and tokenizer\n",
        "model_name = \"microsoft/BiomedNLP-BiomedBERT-base-uncased-abstract-fulltext\"\n",
        "bert_tokenizer = AutoTokenizer.from_pretrained(model_name)\n",
        "bert_model = AutoModelForSequenceClassification.from_pretrained(model_name, num_labels=n_focus_groups)"
      ]
    },
    {
      "cell_type": "markdown",
      "metadata": {
        "id": "slC3IZlvAj88"
      },
      "source": [
        "**Move to GPU**"
      ]
    },
    {
      "cell_type": "code",
      "execution_count": null,
      "metadata": {
        "colab": {
          "base_uri": "https://localhost:8080/"
        },
        "id": "M6x5Z_30q-L3",
        "outputId": "8563c968-a2d2-4d85-94de-7cb7ccb34ec6"
      },
      "outputs": [
        {
          "name": "stdout",
          "output_type": "stream",
          "text": [
            "Using device: cuda\n"
          ]
        }
      ],
      "source": [
        "device = (\"cuda\" if torch.cuda.is_available() else \"cpu\")\n",
        "print(f\"Using device: {device}\")\n",
        "bert_model = bert_model.to(device)"
      ]
    },
    {
      "cell_type": "markdown",
      "metadata": {
        "id": "ljEqIuweBWJO"
      },
      "source": [
        "**Freeze and Unfreeze Layers**\n",
        "\n",
        "Next, we'll freeze and unfreeze specific layers in the BiomedBERT:\n",
        "\n",
        "1. Initial freezing of all layers\n",
        "2. Unfreeze the classification head\n",
        "3. Unfreeze the last 3 transformer layers\n",
        "4. Unfreeze the pooler layer"
      ]
    },
    {
      "cell_type": "code",
      "execution_count": null,
      "metadata": {
        "id": "9uZpAZ1ABMJQ"
      },
      "outputs": [],
      "source": [
        "# Freeze all parameters first\n",
        "for param in bert_model.parameters():\n",
        "    param.requires_grad = False\n",
        "\n",
        "# Unfreeze the classification head\n",
        "for param in bert_model.classifier.parameters():\n",
        "    param.requires_grad = True\n",
        "\n",
        "# Unfreeze the last 3 layers of the encoder (layers 9-11)\n",
        "for i in range(9, 12):\n",
        "    for param in bert_model.bert.encoder.layer[i].parameters():\n",
        "        param.requires_grad = True\n",
        "\n",
        "# Unfreeze the pooler (connecting the BERT output to the classification head)\n",
        "for param in bert_model.bert.pooler.parameters():\n",
        "    param.requires_grad = True"
      ]
    },
    {
      "cell_type": "markdown",
      "metadata": {
        "id": "bwbVVWhLCHL4"
      },
      "source": [
        "**Pre-Process the Training/Testing Texts for BiomedBERT**\n",
        "\n",
        "1. Set a maximum sequence length of 512 tokens (standard for BiomedBERT)\n",
        "2. Tokenize the texts\n",
        "3. Convert texts and labels into tensors\n",
        "4. Load the data into batches\n",
        "\n",
        "Note: We'll use the same masked training set (with the focus group labels removed from the ``answer`` texts) to train the simple neural network."
      ]
    },
    {
      "cell_type": "code",
      "execution_count": null,
      "metadata": {
        "id": "ET7xUGsgBmZj"
      },
      "outputs": [],
      "source": [
        "# Pre-process training text\n",
        "MAX_SEQ_LENGTH = 512\n",
        "\n",
        "X_train = bert_tokenizer(masked_train_texts, padding=True, truncation=True, return_tensors=\"pt\", max_length=MAX_SEQ_LENGTH)\n",
        "y_train = torch.tensor(train_labels, dtype=torch.long)\n",
        "\n",
        "train_dataset = TensorDataset(\n",
        "    X_train['input_ids'].to(device),\n",
        "    X_train['attention_mask'].to(device),\n",
        "    y_train.to(device)\n",
        ")\n",
        "train_loader = DataLoader(train_dataset, batch_size=16, shuffle=True)"
      ]
    },
    {
      "cell_type": "code",
      "execution_count": null,
      "metadata": {
        "id": "k5efvjMrB6Rh"
      },
      "outputs": [],
      "source": [
        "# Pre-process testing text\n",
        "X_test = bert_tokenizer(test_texts, padding=True, truncation=True, return_tensors=\"pt\", max_length=MAX_SEQ_LENGTH)\n",
        "y_test = torch.tensor(test_labels, dtype=torch.long)\n",
        "\n",
        "test_dataset = TensorDataset(X_test['input_ids'].to(device),\n",
        "                             X_test['attention_mask'].to(device),\n",
        "                             y_test.to(device))\n",
        "test_loader = DataLoader(test_dataset, batch_size=8, shuffle=False)"
      ]
    },
    {
      "cell_type": "markdown",
      "metadata": {
        "id": "Ph32UafNCzl-"
      },
      "source": [
        "**Specify Loss Function and Optimizer**"
      ]
    },
    {
      "cell_type": "code",
      "execution_count": null,
      "metadata": {
        "id": "T-Nq3JPBCw3c"
      },
      "outputs": [],
      "source": [
        "optimizer = torch.optim.AdamW(filter(lambda p: p.requires_grad, bert_model.parameters()),\n",
        "                              lr=0.00001)\n",
        "criterion = nn.CrossEntropyLoss()"
      ]
    },
    {
      "cell_type": "markdown",
      "metadata": {
        "id": "QZWHxFmdDF1n"
      },
      "source": [
        "**Fine-Tuning Loop**"
      ]
    },
    {
      "cell_type": "code",
      "execution_count": null,
      "metadata": {
        "colab": {
          "base_uri": "https://localhost:8080/"
        },
        "id": "SD_1AErfC56U",
        "outputId": "a78667a4-e680-4ea9-ff2e-185cef5b6df9"
      },
      "outputs": [
        {
          "name": "stdout",
          "output_type": "stream",
          "text": [
            "Epoch [1/10] - Average CE Loss: 1.5789377093315125\n",
            "Epoch [2/10] - Average CE Loss: 1.467563696205616\n",
            "Epoch [3/10] - Average CE Loss: 1.316890113055706\n",
            "Epoch [4/10] - Average CE Loss: 1.074480552226305\n",
            "Epoch [5/10] - Average CE Loss: 0.7633295934647322\n",
            "Epoch [6/10] - Average CE Loss: 0.5114924153313041\n",
            "Epoch [7/10] - Average CE Loss: 0.35926617961376905\n",
            "Epoch [8/10] - Average CE Loss: 0.2561222342774272\n",
            "Epoch [9/10] - Average CE Loss: 0.19066145434044302\n",
            "Epoch [10/10] - Average CE Loss: 0.16464075807016343\n"
          ]
        }
      ],
      "source": [
        "num_epochs = 10\n",
        "for epoch in range(num_epochs):\n",
        "    bert_model.train()\n",
        "    total_loss = 0.0\n",
        "\n",
        "    for batch_X, batch_attention_mask, batch_y in train_loader:\n",
        "        optimizer.zero_grad()\n",
        "        outputs = bert_model(input_ids=batch_X, attention_mask=batch_attention_mask)\n",
        "        logits = outputs.logits\n",
        "        loss = criterion(logits, batch_y)\n",
        "        total_loss += loss.item()\n",
        "        loss.backward()\n",
        "        optimizer.step()\n",
        "\n",
        "    avg_loss = total_loss / len(train_loader)\n",
        "    if (epoch + 1) % 1 == 0:\n",
        "        print(f'Epoch [{epoch+1}/{num_epochs}] - Average CE Loss: {avg_loss}')"
      ]
    },
    {
      "cell_type": "markdown",
      "metadata": {
        "id": "2kbXow1uEWJe"
      },
      "source": [
        "#### **Model Evaluation**\n",
        "\n",
        "Lastly, let's evaluate the fine-tuned BiomedBERT and compare its performance against the simple neural network baseline"
      ]
    },
    {
      "cell_type": "markdown",
      "metadata": {
        "id": "fCWcG50vEhjk"
      },
      "source": [
        "**Generate Testing Set Predictions**"
      ]
    },
    {
      "cell_type": "code",
      "execution_count": null,
      "metadata": {
        "id": "7xLZx1OLDYRK"
      },
      "outputs": [],
      "source": [
        "bert_model.eval()\n",
        "bert_pred_probs = []\n",
        "bert_pred_labels = []\n",
        "\n",
        "with torch.no_grad():\n",
        "    for batch_X, batch_attention_mask, batch_y in test_loader:\n",
        "        outputs = bert_model(input_ids= batch_X,\n",
        "                                   attention_mask= batch_attention_mask)\n",
        "        logits = outputs.logits\n",
        "        probs = F.softmax(logits, dim=1)\n",
        "        bert_pred_probs.extend(probs.cpu().numpy())\n",
        "\n",
        "        predicted_labels = torch.argmax(logits, dim=1)\n",
        "        bert_pred_labels.extend(predicted_labels.cpu().numpy())"
      ]
    },
    {
      "cell_type": "markdown",
      "metadata": {
        "id": "wd2_cbALEwVe"
      },
      "source": [
        "**Evaluate the Fine-Tuned BiomedBERT**\n",
        "\n"
      ]
    },
    {
      "cell_type": "code",
      "execution_count": null,
      "metadata": {
        "colab": {
          "base_uri": "https://localhost:8080/"
        },
        "id": "fBPtdFOoEtRl",
        "outputId": "7a17a5be-0a32-4f3e-ba75-eaaa7d05f830"
      },
      "outputs": [
        {
          "name": "stdout",
          "output_type": "stream",
          "text": [
            "                                      precision    recall  f1-score   support\n",
            "\n",
            "  Neurological & Cognitive Disorders       1.00      1.00      1.00        14\n",
            "                             Cancers       1.00      0.98      0.99        42\n",
            "             Cardiovascular Diseases       0.97      1.00      0.98        29\n",
            "     Metabolic & Endocrine Disorders       1.00      0.94      0.97        17\n",
            "Other Age-Related & Immune Disorders       0.96      1.00      0.98        23\n",
            "\n",
            "                            accuracy                           0.98       125\n",
            "                           macro avg       0.98      0.98      0.98       125\n",
            "                        weighted avg       0.98      0.98      0.98       125\n",
            "\n"
          ]
        }
      ],
      "source": [
        "focus_group_names = [\"Neurological & Cognitive Disorders\", \"Cancers\", \"Cardiovascular Diseases\",\n",
        "                     \"Metabolic & Endocrine Disorders\", \"Other Age-Related & Immune Disorders\"]\n",
        "\n",
        "report = classification_report(test_labels, bert_pred_labels, target_names=focus_group_names)\n",
        "\n",
        "print(report)"
      ]
    },
    {
      "cell_type": "markdown",
      "metadata": {
        "id": "7nUKuh-KFjVB"
      },
      "source": [
        "Amazingly, the fine-tuned specialized BiomedBERT significantly outperforms the simple neural network, achieving nearly perfect classification scores across all classes in each key metric!\n",
        "\n",
        "Now, let's break down the performance for each class:\n",
        "\n",
        "- **Neurological & Cognitive Disorders:** perfectly classified the text into this focus group\n",
        "- **Cancers:** perfect precision, near perfect recall\n",
        "- **Cardiovascular Diseases:** near perfect precision, perfect recall\n",
        "- **Metabolic & Endocrine Disorders:** perfect precision, high recall score (remember, the simple neural network had a recall score of 71% for this under-represented class!)\n",
        "- **Other Age-Related & Immune Disorders:** high precision, perfect recall\n",
        "\n",
        "The specialized BiomedBERT does a near-perfect job of classifying medical texts into the five focus groups. There are many things to consider as to why BiomedBERT performs much better than the simple neural network:\n",
        "\n",
        "- BiomedBERT is pre-trained on biomedical literature from PubMed and already has a strong foundational understanding of medical terminology and context\n",
        "- BiomedBERT has a much more complex architecture with attention mechanisms that allow it to better capture meaningful patterns and relationships within the training text\n",
        "\n",
        "The specialized BiomedBERT is the superior model for our medical text classification task\n"
      ]
    },
    {
      "cell_type": "code",
      "execution_count": null,
      "metadata": {
        "colab": {
          "base_uri": "https://localhost:8080/",
          "height": 634
        },
        "id": "duwV5SvGE2XH",
        "outputId": "4eec6df0-2f91-497e-a8a8-0da2c92c6a02"
      },
      "outputs": [
        {
          "data": {
            "image/png": "[encoded data removed]",
            "text/plain": [
              "<Figure size 800x600 with 2 Axes>"
            ]
          },
          "metadata": {},
          "output_type": "display_data"
        }
      ],
      "source": [
        "matrix = confusion_matrix(test_labels, bert_pred_labels)\n",
        "\n",
        "plt.figure(figsize=(8, 6))\n",
        "sns.heatmap(matrix, annot=True, fmt='d', cmap='Blues', xticklabels=focus_group_names, yticklabels=focus_group_names)\n",
        "plt.title('Confusion Matrix for BERT Model')\n",
        "plt.xlabel('Predicted Label')\n",
        "plt.ylabel('True Label')\n",
        "plt.xticks(rotation=30,ha=\"right\")\n",
        "plt.show()"
      ]
    },
    {
      "cell_type": "markdown",
      "metadata": {
        "id": "981f7131"
      },
      "source": [
        "When we look at the confusion matrix for the fine-tuned BERT model:\n",
        "\n",
        "- **Neurological & Cognitive Disorders:** All 14 samples that actually belong to this class were correctly predicted. This is a perfect performance for this class.\n",
        "- **Cancers:** 41 of the 42 samples were correctly predicted, with only 1 sample being misclassified. This shows excellent performance.\n",
        "- **Cardiovascular Diseases:** All 29 samples were correctly predicted. This is another perfect performance for this class.\n",
        "- **Metabolic & Endocrine Disorders:** 16 of the 17 samples were correctly predicted, with only 1 sample being misclassified. This is a significant improvement compared to the simple neural network and shows very strong performance.\n",
        "- **Other Age-Related & Immune Disorders:** All 23 samples were correctly predicted. This is perfect performance for this class.\n",
        "\n",
        "The confusion matrix clearly demonstrates the superior performance of the fine-tuned specialized BiomedBERT model. It made very few errors across all classes, correctly classifying almost all the test samples. This visual representation strongly supports the high precision, recall, and F1-scores observed in the classification report. The model's ability to correctly classify instances from the \"Metabolic & Endocrine Disorders\" class, which was a challenge for the baseline model, is particularly noteworthy."
      ]
    },
    {
      "cell_type": "markdown",
      "metadata": {
        "id": "fsF0VOnEGmAo"
      },
      "source": [
        "**Example Prediction**\n",
        "\n",
        "Let's build a quick function that classifies an example text using the fine-tuned BiomedBERT."
      ]
    },
    {
      "cell_type": "code",
      "execution_count": null,
      "metadata": {
        "id": "Ypsd9kK0FFn5"
      },
      "outputs": [],
      "source": [
        "def biomedbert_classify_text(text):\n",
        "    \"\"\"\n",
        "    Function that classifies a medical text (str) into 5 focus groups:\n",
        "        - \"Neurological & Cognitive Disorders\"\n",
        "        - \"Cancers\"\n",
        "        - \"Cardiovascular Diseases\"\n",
        "        - \"Metabolic & Endocrine Disorders\"\n",
        "        - \"Other Age-Related & Immune Disorders\"\n",
        "    \"\"\"\n",
        "    # Pre-Process and Tokenize the Text\n",
        "    MAX_SEQ_LENGTH = 512\n",
        "    tokenized_text = bert_tokenizer(\n",
        "        example_text,\n",
        "        padding='max_length',\n",
        "        truncation=True,\n",
        "        max_length=MAX_SEQ_LENGTH,\n",
        "        return_tensors=\"pt\"\n",
        "    )\n",
        "\n",
        "    # Move tokenized text to device\n",
        "    tokenized_text = {k: v.to(device) for k, v in tokenized_text.items()}\n",
        "\n",
        "    # Generate prediction\n",
        "    with torch.no_grad():\n",
        "        outputs = bert_model(\n",
        "            input_ids=tokenized_text['input_ids'],\n",
        "            attention_mask=tokenized_text['attention_mask']\n",
        "        )\n",
        "        predicted_label = torch.argmax(outputs.logits, dim=1)\n",
        "\n",
        "    # Encode predicted output (int) to focus group label (str)\n",
        "    reverse_focus_map = {0:\"Neurological & Cognitive Disorders\",\n",
        "                         1:\"Cancers\",\n",
        "                         2:\"Cardiovascular Diseases\",\n",
        "                         3:\"Metabolic & Endocrine Disorders\",\n",
        "                         4:\"Other Age-Related & Immune Disorders\"\n",
        "                }\n",
        "    predicted_focus = reverse_focus_map[predicted_label.cpu().item()]\n",
        "    return predicted_focus"
      ]
    },
    {
      "cell_type": "markdown",
      "metadata": {
        "id": "B6XJN-E5GzeP"
      },
      "source": [
        "**Classify Example Text**"
      ]
    },
    {
      "cell_type": "code",
      "execution_count": null,
      "metadata": {
        "colab": {
          "base_uri": "https://localhost:8080/",
          "height": 36
        },
        "id": "xgplxIoGGvuc",
        "outputId": "57be794b-16e6-43c2-e7b8-4977474b00bd"
      },
      "outputs": [
        {
          "data": {
            "application/vnd.google.colaboratory.intrinsic+json": {
              "type": "string"
            },
            "text/plain": [
              "'Neurological & Cognitive Disorders'"
            ]
          },
          "execution_count": 35,
          "metadata": {},
          "output_type": "execute_result"
        }
      ],
      "source": [
        "example_text = '''The patient displays progressive deterioration of cognitive abilities affecting memory, thinking, language, and judgment. Family members report personality changes and difficulty with daily activities.\n",
        "Imaging studies show cortical atrophy and enlarged ventricles. Laboratory tests rule out vitamin deficiencies, thyroid disorders, and other reversible causes of cognitive decline.\n",
        "Treatment focuses on symptom management and maintaining quality of life through cholinesterase inhibitors and environmental modifications.'''\n",
        "\n",
        "biomedbert_classify_text(example_text)"
      ]
    },
    {
      "cell_type": "markdown",
      "metadata": {
        "id": "cKQnWxZcHKdi"
      },
      "source": [
        "---"
      ]
    },
    {
      "cell_type": "markdown",
      "metadata": {
        "id": "e88450ae"
      },
      "source": [
        "## Conclusion\n",
        "\n",
        "In this project, we explored building deep learning models using PyTorch to classify medical text related to health topics from the MedQuAD dataset into five broader focus groups: Cancers, Cardiovascular Diseases, Metabolic and Endocrine Disorders, Neurological and Cognitive Disorders, and Other Age-Related and Immune Disorders.\n",
        "\n",
        "After loading and exploring the dataset, we performed necessary data cleaning and pre-processing steps, including handling missing values, grouping the top 25 most frequent focus areas into 5 categories, encoding the target labels, dropping duplicate entries based on the 'answer' column, and splitting the data into training and testing sets while ensuring stratified distribution of focus groups.\n",
        "\n",
        "We then built and evaluated two models:\n",
        "\n",
        "1.  **Simple Neural Network with Embedding:** This model served as our baseline. After tokenizing, encoding, and padding the text data, we trained a simple neural network. While achieving a decent overall accuracy of 86%, the model showed varying performance across classes, particularly struggling with the \"Metabolic & Endocrine Disorders\" class (71% recall), indicating confusion with other categories as seen in the confusion matrix.\n",
        "\n",
        "2.  **Fine-Tuned BiomedBERT Transformer:** We fine-tuned a specialized BERT model pre-trained on biomedical literature. We pre-processed the data using the BiomedBERT tokenizer and trained the model on the masked training texts (with focus group labels removed). The fine-tuned BiomedBERT achieved significantly higher performance, with a near-perfect overall accuracy of 98% and excellent precision, recall, and F1-scores across all classes. The confusion matrix for the BERT model demonstrated minimal misclassifications, even for the \"Metabolic & Endocrine Disorders\" class, which was challenging for the baseline.\n",
        "\n",
        "The superior performance of the specialized BiomedBERT highlights the advantage of using models pre-trained on domain-specific data and leveraging complex architectures like transformers with attention mechanisms, which are better equipped to understand the nuances and context within medical text.\n",
        "\n",
        "The final fine-tuned BiomedBERT model is highly effective at classifying medical text into the defined focus groups based on this dataset. However, it's important to remember the limitations mentioned at the beginning of the notebook; these models are built and trained on a limited subset of data and are not intended for real-world medical applications."
      ]
    },
    {
      "cell_type": "markdown",
      "metadata": {
        "id": "Cc-AT7gKHxCi"
      },
      "source": [
        "---"
      ]
    }
  ],
  "metadata": {
    "accelerator": "GPU",
    "colab": {
      "gpuType": "T4",
      "provenance": [],
      "mount_file_id": "16hFXyEdmpiZ3sMsSjs_igocdj9_6mB_b",
      "authorship_tag": "ABX9TyNVV+szmgw/XEgTnzSaLWVB",
      "include_colab_link": true
    },
    "kernelspec": {
      "display_name": "Python 3",
      "name": "python3"
    },
    "language_info": {
      "name": "python"
    }
  },
  "nbformat": 4,
  "nbformat_minor": 0
}